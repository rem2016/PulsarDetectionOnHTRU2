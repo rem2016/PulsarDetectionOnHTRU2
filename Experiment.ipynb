{
 "cells": [
  {
   "cell_type": "code",
   "execution_count": 1,
   "metadata": {
    "ExecuteTime": {
     "end_time": "2018-03-31T03:47:39.994769Z",
     "start_time": "2018-03-31T03:47:27.832108Z"
    },
    "collapsed": true
   },
   "outputs": [],
   "source": [
    "import numpy as np\n",
    "import seaborn as sns\n",
    "import pandas as pd\n",
    "import matplotlib.pyplot as plt\n",
    "from sklearn.neighbors import KNeighborsClassifier\n",
    "from sklearn.pipeline import make_pipeline\n",
    "from sklearn.preprocessing import StandardScaler, MinMaxScaler\n",
    "from imblearn.over_sampling import SMOTE\n",
    "import model\n",
    "import evaluation\n",
    "import preprocess\n",
    "from collections import defaultdict\n",
    "from IPython.display import display, Markdown\n",
    "\n",
    "%matplotlib inline"
   ]
  },
  {
   "cell_type": "markdown",
   "metadata": {},
   "source": [
    "模型cross validation 1次的时间大概在 4s 左右"
   ]
  },
  {
   "cell_type": "code",
   "execution_count": 2,
   "metadata": {
    "ExecuteTime": {
     "end_time": "2018-03-31T03:47:40.061678Z",
     "start_time": "2018-03-31T03:47:39.997769Z"
    },
    "collapsed": true
   },
   "outputs": [],
   "source": [
    "X, y = preprocess.load_data()"
   ]
  },
  {
   "cell_type": "code",
   "execution_count": 3,
   "metadata": {
    "ExecuteTime": {
     "end_time": "2018-03-31T03:47:40.146106Z",
     "start_time": "2018-03-31T03:47:40.072682Z"
    },
    "collapsed": true
   },
   "outputs": [],
   "source": [
    "models = {\n",
    "    'DecisionTree': model.DecisionTree,\n",
    "    'SVM': model.SVM,\n",
    "    'LR': model.LinearModel,\n",
    "    'XGBoost': model.XGBoost\n",
    "}"
   ]
  },
  {
   "cell_type": "markdown",
   "metadata": {},
   "source": [
    "## Model View"
   ]
  },
  {
   "cell_type": "code",
   "execution_count": null,
   "metadata": {
    "ExecuteTime": {
     "start_time": "2018-03-30T16:25:46.878Z"
    },
    "collapsed": true
   },
   "outputs": [],
   "source": [
    "dfs_results = defaultdict(lambda: pd.DataFrame(columns=['f1', 'roc_auc']))"
   ]
  },
  {
   "cell_type": "code",
   "execution_count": null,
   "metadata": {
    "ExecuteTime": {
     "start_time": "2018-03-30T16:25:46.879Z"
    },
    "collapsed": true
   },
   "outputs": [],
   "source": [
    "# 1m 39s\n",
    "for name, md in models.items():\n",
    "    for use_balanced_trick in (True, False):\n",
    "        result = evaluation.cross_validation(md(balanced_learning=use_balanced_trick), X, y, scoring='both', n_jobs=-1)\n",
    "        display(Markdown(\"**{}**\".format(name)))\n",
    "        display(Markdown(\"- f1: {}\".format(result['f1'])))\n",
    "        display(Markdown(\"- roc_auc: {}\".format(result['roc_auc'])))\n",
    "        if use_balanced_trick:\n",
    "            dfs_results['origin'].loc[name] = result['f1'].mean(), result['roc_auc'].mean()\n",
    "        else:\n",
    "            dfs_results['model_balance'].loc[name] = result['f1'].mean(), result['roc_auc'].mean()\n"
   ]
  },
  {
   "cell_type": "markdown",
   "metadata": {},
   "source": [
    "## Data View"
   ]
  },
  {
   "cell_type": "code",
   "execution_count": null,
   "metadata": {
    "ExecuteTime": {
     "start_time": "2018-03-30T16:25:46.881Z"
    },
    "collapsed": true
   },
   "outputs": [],
   "source": [
    "# 5min\n",
    "sample_methods = {\n",
    "    'smote': preprocess.get_smote('regular'),\n",
    "    'sm_bl1': preprocess.get_smote('borderline1'),\n",
    "    'sm_bl2': preprocess.get_smote('borderline2'),\n",
    "    'sm_svm': preprocess.get_smote('svm'),\n",
    "    'upsampling': preprocess.upsampling,\n",
    "    'downsampling': preprocess.downsampling\n",
    "}\n",
    "\n",
    "df_sample = defaultdict(lambda: pd.DataFrame(columns=['f1', 'roc_auc']))\n",
    "for name, md in models.items():\n",
    "    for method_name, method in sample_methods.items():\n",
    "        result = evaluation.cross_validation(md(balanced_learning=False, sample_method=method), X, y, scoring='both', n_jobs=-1)\n",
    "        display(Markdown(\"**{}_{}**\".format(name, method_name)))\n",
    "        display(Markdown(\"- f1: {}\".format(result['f1'])))\n",
    "        display(Markdown(\"- roc_auc: {}\".format(result['roc_auc'])))\n",
    "        dfs_results[method_name].loc[name] = result['f1'].mean(), result['roc_auc'].mean()\n",
    "\n"
   ]
  },
  {
   "cell_type": "code",
   "execution_count": null,
   "metadata": {
    "ExecuteTime": {
     "start_time": "2018-03-30T16:25:46.883Z"
    },
    "collapsed": true
   },
   "outputs": [],
   "source": [
    "df_overall = pd.DataFrame(columns=('f1', 'roc_auc'))\n",
    "for name, df in dfs_results.items():\n",
    "    for i, row in df.iterrows():\n",
    "        df_overall.loc[i + '_' + name] = row"
   ]
  },
  {
   "cell_type": "code",
   "execution_count": null,
   "metadata": {
    "ExecuteTime": {
     "start_time": "2018-03-30T16:25:46.884Z"
    },
    "collapsed": true
   },
   "outputs": [],
   "source": [
    "df_overall.sort_index(inplace=True)\n",
    "\n",
    "sns.plt.figure(figsize=(10, 10))\n",
    "sns.plt.xlim((0.92, 1))\n",
    "colors = sns.color_palette(n_colors=len(df_overall))\n",
    "palette = np.concatenate([[colors[x]]* (len(sample_methods) + 2) for x in range(len(models))])\n",
    "sns.barplot(x='roc_auc', y=df_overall.index.values, data=df_overall, palette=palette)"
   ]
  },
  {
   "cell_type": "code",
   "execution_count": null,
   "metadata": {
    "ExecuteTime": {
     "start_time": "2018-03-30T16:25:46.887Z"
    },
    "collapsed": true,
    "scrolled": false
   },
   "outputs": [],
   "source": [
    "sns.plt.figure(figsize=(10, 10))\n",
    "sns.plt.xlim((0.6, 1))\n",
    "colors = sns.color_palette(n_colors=len(df_overall))\n",
    "palette = np.concatenate([[colors[x]]* (len(sample_methods) + 2) for x in range(len(models))])\n",
    "sns.barplot(x='f1', y=df_overall.index.values, data=df_overall, palette=palette)"
   ]
  },
  {
   "cell_type": "code",
   "execution_count": 8,
   "metadata": {
    "ExecuteTime": {
     "end_time": "2018-03-30T16:48:10.408676Z",
     "start_time": "2018-03-30T16:47:56.384306Z"
    }
   },
   "outputs": [
    {
     "data": {
      "text/plain": [
       "{'f1': array([ 0.86075949,  0.8583691 ,  0.88655462]),\n",
       " 'roc_auc': array([ 0.94523086,  0.95091916,  0.96111451])}"
      ]
     },
     "execution_count": 8,
     "metadata": {},
     "output_type": "execute_result"
    }
   ],
   "source": [
    "evaluation.cross_validation(model.MultiClassesLearner('KNN'), X, y, scoring='both', n_jobs=-1)"
   ]
  },
  {
   "cell_type": "code",
   "execution_count": 15,
   "metadata": {
    "ExecuteTime": {
     "end_time": "2018-03-31T02:29:29.404108Z",
     "start_time": "2018-03-31T02:18:47.971748Z"
    },
    "scrolled": true
   },
   "outputs": [
    {
     "name": "stdout",
     "output_type": "stream",
     "text": [
      "a:0.15 b800 \tscore:0.8879845810405949\n",
      "a:0.15 b1000 \tscore:0.8878510373889916\n",
      "a:0.15 b1200 \tscore:0.8881521335604614\n",
      "a:0.16 b800 \tscore:0.8906637380565098\n",
      "a:0.16 b1000 \tscore:0.8893851663766477\n",
      "a:0.16 b1200 \tscore:0.8902548231790135\n",
      "a:0.17 b800 \tscore:0.8871552294959855\n",
      "a:0.17 b1000 \tscore:0.8864939455852399\n",
      "a:0.17 b1200 \tscore:0.8865550629045487\n",
      "a:0.18 b800 \tscore:0.8884270513238677\n",
      "a:0.18 b1000 \tscore:0.8875241542727071\n",
      "a:0.18 b1200 \tscore:0.88755145015859\n",
      "a:0.19 b800 \tscore:0.8888288425744438\n",
      "a:0.19 b1000 \tscore:0.8893213278112146\n",
      "a:0.19 b1200 \tscore:0.8895080630638199\n",
      "a:0.2 b800 \tscore:0.8905400090923532\n",
      "a:0.2 b1000 \tscore:0.8907662802782687\n",
      "a:0.2 b1200 \tscore:0.890759680831283\n",
      "a:0.21 b800 \tscore:0.886388675109313\n",
      "a:0.21 b1000 \tscore:0.8868033675103328\n",
      "a:0.21 b1200 \tscore:0.8867738255025716\n",
      "a:0.22 b800 \tscore:0.8874717817844904\n",
      "a:0.22 b1000 \tscore:0.887619478782511\n",
      "a:0.22 b1200 \tscore:0.8878491855461462\n",
      "a:0.23 b800 \tscore:0.8883600294923883\n",
      "a:0.23 b1000 \tscore:0.8881059368585342\n",
      "a:0.23 b1200 \tscore:0.8880465443454645\n",
      "a:0.24 b800 \tscore:0.8897388425269112\n",
      "a:0.24 b1000 \tscore:0.8906876188433955\n",
      "a:0.24 b1200 \tscore:0.8896599619378026\n"
     ]
    }
   ],
   "source": [
    "output = []\n",
    "for a in range(15, 25):\n",
    "    a /= 100\n",
    "    for b in (800, 1000, 1200):\n",
    "        scores = evaluation.cross_validation(model.XGBoost(colsample_bytree=0.8, subsample=0.8,\n",
    "                                                           max_depth=9, min_child_weight=1, reg_alpha=reg,\n",
    "                                                           learning_rate=0.2, silent=False, gamma=0.0001,\n",
    "                                                           n_estimators=1000, normalizer_name='standard'),\n",
    "                                             X, y, scoring='f1', n_jobs=-1, n_splits=5)\n",
    "        print(\"a:{} b{} \\tscore:{}\".format(a, b, scores.mean()))\n",
    "        output.append([a, b, scores.mean()])\n",
    "\n"
   ]
  },
  {
   "cell_type": "code",
   "execution_count": 18,
   "metadata": {
    "ExecuteTime": {
     "end_time": "2018-03-31T02:37:04.572095Z",
     "start_time": "2018-03-31T02:37:04.474913Z"
    },
    "collapsed": true
   },
   "outputs": [],
   "source": [
    "from sklearn.svm import SVC\n",
    "SVC?"
   ]
  },
  {
   "cell_type": "code",
   "execution_count": 19,
   "metadata": {
    "ExecuteTime": {
     "end_time": "2018-03-31T02:45:05.864431Z",
     "start_time": "2018-03-31T02:45:05.861429Z"
    },
    "collapsed": true
   },
   "outputs": [],
   "source": [
    "from sklearn.model_selection import cross_val_score"
   ]
  },
  {
   "cell_type": "code",
   "execution_count": 21,
   "metadata": {
    "ExecuteTime": {
     "end_time": "2018-03-31T02:48:30.010262Z",
     "start_time": "2018-03-31T02:48:30.005259Z"
    },
    "collapsed": true
   },
   "outputs": [],
   "source": [
    "a = {'C': 123}\n",
    "b = {'D: 123'}\n",
    "c = {'C: 13'}"
   ]
  },
  {
   "cell_type": "code",
   "execution_count": 26,
   "metadata": {
    "ExecuteTime": {
     "end_time": "2018-03-31T02:49:00.799998Z",
     "start_time": "2018-03-31T02:49:00.789992Z"
    }
   },
   "outputs": [
    {
     "ename": "TypeError",
     "evalue": "update() argument after ** must be a mapping, not set",
     "output_type": "error",
     "traceback": [
      "\u001b[1;31m---------------------------------------------------------------------------\u001b[0m",
      "\u001b[1;31mTypeError\u001b[0m                                 Traceback (most recent call last)",
      "\u001b[1;32m<ipython-input-26-86cdf53bc49d>\u001b[0m in \u001b[0;36m<module>\u001b[1;34m()\u001b[0m\n\u001b[1;32m----> 1\u001b[1;33m \u001b[0ma\u001b[0m\u001b[1;33m.\u001b[0m\u001b[0mupdate\u001b[0m\u001b[1;33m(\u001b[0m\u001b[1;33m**\u001b[0m\u001b[0mb\u001b[0m\u001b[1;33m)\u001b[0m\u001b[1;33m\u001b[0m\u001b[0m\n\u001b[0m",
      "\u001b[1;31mTypeError\u001b[0m: update() argument after ** must be a mapping, not set"
     ]
    }
   ],
   "source": [
    "a."
   ]
  },
  {
   "cell_type": "code",
   "execution_count": 16,
   "metadata": {
    "ExecuteTime": {
     "end_time": "2018-03-31T02:35:02.052924Z",
     "start_time": "2018-03-31T02:35:02.049921Z"
    },
    "collapsed": true
   },
   "outputs": [],
   "source": [
    "output.sort(key=lambda x: -x[2])"
   ]
  },
  {
   "cell_type": "code",
   "execution_count": 17,
   "metadata": {
    "ExecuteTime": {
     "end_time": "2018-03-31T02:35:02.472756Z",
     "start_time": "2018-03-31T02:35:02.465751Z"
    }
   },
   "outputs": [
    {
     "data": {
      "text/plain": [
       "[[0.2, 1000, 0.89076628027826865],\n",
       " [0.2, 1200, 0.89075968083128299],\n",
       " [0.24, 1000, 0.89068761884339553],\n",
       " [0.16, 800, 0.89066373805650978],\n",
       " [0.2, 800, 0.8905400090923532],\n",
       " [0.16, 1200, 0.8902548231790135],\n",
       " [0.24, 800, 0.88973884252691116],\n",
       " [0.24, 1200, 0.88965996193780261],\n",
       " [0.19, 1200, 0.88950806306381991],\n",
       " [0.16, 1000, 0.88938516637664766],\n",
       " [0.19, 1000, 0.88932132781121465],\n",
       " [0.19, 800, 0.88882884257444383],\n",
       " [0.18, 800, 0.88842705132386768],\n",
       " [0.23, 800, 0.88836002949238835],\n",
       " [0.15, 1200, 0.88815213356046141],\n",
       " [0.23, 1000, 0.88810593685853423],\n",
       " [0.23, 1200, 0.88804654434546448],\n",
       " [0.15, 800, 0.88798458104059486],\n",
       " [0.15, 1000, 0.88785103738899163],\n",
       " [0.22, 1200, 0.88784918554614622],\n",
       " [0.22, 1000, 0.88761947878251102],\n",
       " [0.18, 1200, 0.88755145015859005],\n",
       " [0.18, 1000, 0.88752415427270714],\n",
       " [0.22, 800, 0.88747178178449038],\n",
       " [0.17, 800, 0.88715522949598546],\n",
       " [0.21, 1000, 0.88680336751033284],\n",
       " [0.21, 1200, 0.88677382550257156],\n",
       " [0.17, 1200, 0.88655506290454866],\n",
       " [0.17, 1000, 0.88649394558523986],\n",
       " [0.21, 800, 0.88638867510931296]]"
      ]
     },
     "execution_count": 17,
     "metadata": {},
     "output_type": "execute_result"
    }
   ],
   "source": [
    "output\n"
   ]
  },
  {
   "cell_type": "code",
   "execution_count": 14,
   "metadata": {
    "ExecuteTime": {
     "end_time": "2018-03-30T17:25:51.816618Z",
     "start_time": "2018-03-30T17:25:51.812615Z"
    },
    "collapsed": true
   },
   "outputs": [],
   "source": [
    "import xgboost as xgb\n",
    "\n",
    "def modelfit(alg, X, y, useTrainCV=True, cv_folds=5, early_stopping_rounds=50):\n",
    "    \n",
    "    if useTrainCV:\n",
    "        xgb_param = alg.get_xgb_params()\n",
    "        xgtrain = xgb.DMatrix(X, label=y)\n",
    "        cvresult = xgb.cv(xgb_param, xgtrain, num_boost_round=alg.get_params()['n_estimators'], nfold=cv_folds,\n",
    "            metrics='auc', early_stopping_rounds=early_stopping_rounds)\n",
    "        alg.set_params(n_estimators=cvresult.shape[0])\n",
    "    \n",
    "    #Fit the algorithm on the data\n",
    "    alg.fit(X, y,eval_metric='auc')\n",
    "        \n",
    "    #Predict training set:\n",
    "    dtrain_predictions = alg.predict(X)\n",
    "    dtrain_predprob = alg.predict_proba(X)[:,1]\n",
    "        \n",
    "    #Print model report:\n",
    "    print (\"\\nModel Report\")\n",
    "    print (\"Accuracy : %.4g\" % metrics.accuracy_score(y, dtrain_predictions))\n",
    "    print (\"AUC Score (Train): %f\" % metrics.roc_auc_score(y, dtrain_predprob))\n",
    "                    \n",
    "    feat_imp = pd.Series(alg.booster().get_fscore()).sort_values(ascending=False)\n",
    "    feat_imp.plot(kind='bar', title='Feature Importances')\n",
    "    plt.ylabel('Feature Importance Score')\n",
    "\n",
    "xtr = model.XGBoost()\n",
    "\n",
    "feat_imp = pd.Series(xtr.xgb.get_booster().get_fscore()).sort_values(ascending=False)\n",
    "feat_imp.plot(kind='bar', title='Feature Importances')\n",
    "plt.ylabel('Feature Importance Score')"
   ]
  },
  {
   "cell_type": "code",
   "execution_count": 7,
   "metadata": {
    "ExecuteTime": {
     "end_time": "2018-03-30T16:47:23.063413Z",
     "start_time": "2018-03-30T16:47:11.246716Z"
    }
   },
   "outputs": [
    {
     "data": {
      "text/plain": [
       "{'f1': array([ 0.87292818,  0.87887888,  0.90137858]),\n",
       " 'roc_auc': array([ 0.97345762,  0.97588045,  0.97862445])}"
      ]
     },
     "execution_count": 7,
     "metadata": {},
     "output_type": "execute_result"
    }
   ],
   "source": [
    "ll = model.LinearEnsemble(\n",
    "    [\n",
    "        model.LinearModel(),\n",
    "        model.LinearModel(),\n",
    "        model.LinearModel(),\n",
    "        model.LinearModel(),\n",
    "        model.LinearModel(),\n",
    "        model.LinearModel(),\n",
    "        model.LinearModel(),\n",
    "        model.LinearModel(),\n",
    "        model.LinearModel(),\n",
    "    ]\n",
    ") \n",
    "\n",
    "tt = model.VotingEnsemble([\n",
    "    model.DecisionTree(),\n",
    "    model.DecisionTree(),\n",
    "    model.DecisionTree(),\n",
    "    model.DecisionTree(),\n",
    "    model.DecisionTree(),\n",
    "])\n",
    "\n",
    "evaluation.cross_validation(\n",
    "    model.LinearEnsemble(\n",
    "        [\n",
    "            ll,\n",
    "            model.XGBoost(),\n",
    "            tt,\n",
    "        ]\n",
    "    ),\n",
    "    X, y, scoring='both', n_jobs=-1\n",
    ")"
   ]
  },
  {
   "cell_type": "code",
   "execution_count": 6,
   "metadata": {
    "ExecuteTime": {
     "end_time": "2018-03-31T03:27:45.466202Z",
     "start_time": "2018-03-31T03:24:47.727887Z"
    }
   },
   "outputs": [
    {
     "name": "stderr",
     "output_type": "stream",
     "text": [
      "C:\\Users\\Administrator\\Anaconda3\\lib\\site-packages\\sklearn\\utils\\deprecation.py:122: FutureWarning: You are accessing a training score ('mean_train_score'), which will not be available by default any more in 0.21. If you need training scores, please set return_train_score=True\n",
      "  warnings.warn(*warn_args, **warn_kwargs)\n"
     ]
    }
   ],
   "source": [
    "best_params, scores = evaluation.best_param_search(\n",
    "    model.SVM(),\n",
    "    [{'kernel': ['rbf', 'linear', 'sigmoid', 'poly'], 'C': [0.001, 0.01, 0.1, 1, 10]}],\n",
    "    X,\n",
    "    y\n",
    ")"
   ]
  },
  {
   "cell_type": "code",
   "execution_count": 8,
   "metadata": {
    "ExecuteTime": {
     "end_time": "2018-03-31T03:27:54.604255Z",
     "start_time": "2018-03-31T03:27:54.600246Z"
    }
   },
   "outputs": [
    {
     "data": {
      "text/plain": [
       "{'C': 0.001, 'kernel': 'rbf'}"
      ]
     },
     "execution_count": 8,
     "metadata": {},
     "output_type": "execute_result"
    }
   ],
   "source": [
    "best_params"
   ]
  },
  {
   "cell_type": "code",
   "execution_count": 7,
   "metadata": {
    "ExecuteTime": {
     "end_time": "2018-03-31T03:27:45.481405Z",
     "start_time": "2018-03-31T03:27:45.467703Z"
    }
   },
   "outputs": [
    {
     "data": {
      "text/html": [
       "<div>\n",
       "<style>\n",
       "    .dataframe thead tr:only-child th {\n",
       "        text-align: right;\n",
       "    }\n",
       "\n",
       "    .dataframe thead th {\n",
       "        text-align: left;\n",
       "    }\n",
       "\n",
       "    .dataframe tbody tr th {\n",
       "        vertical-align: top;\n",
       "    }\n",
       "</style>\n",
       "<table border=\"1\" class=\"dataframe\">\n",
       "  <thead>\n",
       "    <tr style=\"text-align: right;\">\n",
       "      <th></th>\n",
       "      <th>test_score</th>\n",
       "      <th>train_score</th>\n",
       "      <th>fit_time</th>\n",
       "      <th>score_time</th>\n",
       "    </tr>\n",
       "  </thead>\n",
       "  <tbody>\n",
       "    <tr>\n",
       "      <th>C:0.001;kernel:rbf</th>\n",
       "      <td>0.85694</td>\n",
       "      <td>0.849521</td>\n",
       "      <td>14.516547</td>\n",
       "      <td>0.524687</td>\n",
       "    </tr>\n",
       "    <tr>\n",
       "      <th>C:0.001;kernel:linear</th>\n",
       "      <td>0.85694</td>\n",
       "      <td>0.849521</td>\n",
       "      <td>16.636302</td>\n",
       "      <td>0.526856</td>\n",
       "    </tr>\n",
       "    <tr>\n",
       "      <th>C:0.001;kernel:sigmoid</th>\n",
       "      <td>0.85694</td>\n",
       "      <td>0.849521</td>\n",
       "      <td>17.641749</td>\n",
       "      <td>0.528024</td>\n",
       "    </tr>\n",
       "    <tr>\n",
       "      <th>C:0.001;kernel:poly</th>\n",
       "      <td>0.85694</td>\n",
       "      <td>0.849521</td>\n",
       "      <td>17.967802</td>\n",
       "      <td>0.521853</td>\n",
       "    </tr>\n",
       "    <tr>\n",
       "      <th>C:0.01;kernel:rbf</th>\n",
       "      <td>0.85694</td>\n",
       "      <td>0.849521</td>\n",
       "      <td>18.532183</td>\n",
       "      <td>0.530692</td>\n",
       "    </tr>\n",
       "    <tr>\n",
       "      <th>C:0.01;kernel:linear</th>\n",
       "      <td>0.85694</td>\n",
       "      <td>0.849521</td>\n",
       "      <td>18.845895</td>\n",
       "      <td>0.543201</td>\n",
       "    </tr>\n",
       "    <tr>\n",
       "      <th>C:0.01;kernel:sigmoid</th>\n",
       "      <td>0.85694</td>\n",
       "      <td>0.849521</td>\n",
       "      <td>18.487320</td>\n",
       "      <td>0.526689</td>\n",
       "    </tr>\n",
       "    <tr>\n",
       "      <th>C:0.01;kernel:poly</th>\n",
       "      <td>0.85694</td>\n",
       "      <td>0.849521</td>\n",
       "      <td>18.347225</td>\n",
       "      <td>0.538531</td>\n",
       "    </tr>\n",
       "    <tr>\n",
       "      <th>C:0.1;kernel:rbf</th>\n",
       "      <td>0.85694</td>\n",
       "      <td>0.849521</td>\n",
       "      <td>17.984647</td>\n",
       "      <td>0.533527</td>\n",
       "    </tr>\n",
       "    <tr>\n",
       "      <th>C:0.1;kernel:linear</th>\n",
       "      <td>0.85694</td>\n",
       "      <td>0.849521</td>\n",
       "      <td>18.276678</td>\n",
       "      <td>0.542199</td>\n",
       "    </tr>\n",
       "    <tr>\n",
       "      <th>C:0.1;kernel:sigmoid</th>\n",
       "      <td>0.85694</td>\n",
       "      <td>0.849521</td>\n",
       "      <td>18.277512</td>\n",
       "      <td>0.525022</td>\n",
       "    </tr>\n",
       "    <tr>\n",
       "      <th>C:0.1;kernel:poly</th>\n",
       "      <td>0.85694</td>\n",
       "      <td>0.849521</td>\n",
       "      <td>18.634252</td>\n",
       "      <td>0.527023</td>\n",
       "    </tr>\n",
       "    <tr>\n",
       "      <th>C:1;kernel:rbf</th>\n",
       "      <td>0.85694</td>\n",
       "      <td>0.849521</td>\n",
       "      <td>18.053527</td>\n",
       "      <td>0.530692</td>\n",
       "    </tr>\n",
       "    <tr>\n",
       "      <th>C:1;kernel:linear</th>\n",
       "      <td>0.85694</td>\n",
       "      <td>0.849521</td>\n",
       "      <td>18.612571</td>\n",
       "      <td>0.543701</td>\n",
       "    </tr>\n",
       "    <tr>\n",
       "      <th>C:1;kernel:sigmoid</th>\n",
       "      <td>0.85694</td>\n",
       "      <td>0.849521</td>\n",
       "      <td>18.221307</td>\n",
       "      <td>0.532526</td>\n",
       "    </tr>\n",
       "    <tr>\n",
       "      <th>C:1;kernel:poly</th>\n",
       "      <td>0.85694</td>\n",
       "      <td>0.849521</td>\n",
       "      <td>18.164602</td>\n",
       "      <td>0.527856</td>\n",
       "    </tr>\n",
       "    <tr>\n",
       "      <th>C:10;kernel:rbf</th>\n",
       "      <td>0.85694</td>\n",
       "      <td>0.849521</td>\n",
       "      <td>18.260166</td>\n",
       "      <td>0.530692</td>\n",
       "    </tr>\n",
       "    <tr>\n",
       "      <th>C:10;kernel:linear</th>\n",
       "      <td>0.85694</td>\n",
       "      <td>0.849521</td>\n",
       "      <td>18.704300</td>\n",
       "      <td>0.533027</td>\n",
       "    </tr>\n",
       "    <tr>\n",
       "      <th>C:10;kernel:sigmoid</th>\n",
       "      <td>0.85694</td>\n",
       "      <td>0.849521</td>\n",
       "      <td>17.496323</td>\n",
       "      <td>0.457507</td>\n",
       "    </tr>\n",
       "    <tr>\n",
       "      <th>C:10;kernel:poly</th>\n",
       "      <td>0.85694</td>\n",
       "      <td>0.849521</td>\n",
       "      <td>14.414363</td>\n",
       "      <td>0.355583</td>\n",
       "    </tr>\n",
       "  </tbody>\n",
       "</table>\n",
       "</div>"
      ],
      "text/plain": [
       "                        test_score  train_score   fit_time  score_time\n",
       "C:0.001;kernel:rbf         0.85694     0.849521  14.516547    0.524687\n",
       "C:0.001;kernel:linear      0.85694     0.849521  16.636302    0.526856\n",
       "C:0.001;kernel:sigmoid     0.85694     0.849521  17.641749    0.528024\n",
       "C:0.001;kernel:poly        0.85694     0.849521  17.967802    0.521853\n",
       "C:0.01;kernel:rbf          0.85694     0.849521  18.532183    0.530692\n",
       "C:0.01;kernel:linear       0.85694     0.849521  18.845895    0.543201\n",
       "C:0.01;kernel:sigmoid      0.85694     0.849521  18.487320    0.526689\n",
       "C:0.01;kernel:poly         0.85694     0.849521  18.347225    0.538531\n",
       "C:0.1;kernel:rbf           0.85694     0.849521  17.984647    0.533527\n",
       "C:0.1;kernel:linear        0.85694     0.849521  18.276678    0.542199\n",
       "C:0.1;kernel:sigmoid       0.85694     0.849521  18.277512    0.525022\n",
       "C:0.1;kernel:poly          0.85694     0.849521  18.634252    0.527023\n",
       "C:1;kernel:rbf             0.85694     0.849521  18.053527    0.530692\n",
       "C:1;kernel:linear          0.85694     0.849521  18.612571    0.543701\n",
       "C:1;kernel:sigmoid         0.85694     0.849521  18.221307    0.532526\n",
       "C:1;kernel:poly            0.85694     0.849521  18.164602    0.527856\n",
       "C:10;kernel:rbf            0.85694     0.849521  18.260166    0.530692\n",
       "C:10;kernel:linear         0.85694     0.849521  18.704300    0.533027\n",
       "C:10;kernel:sigmoid        0.85694     0.849521  17.496323    0.457507\n",
       "C:10;kernel:poly           0.85694     0.849521  14.414363    0.355583"
      ]
     },
     "execution_count": 7,
     "metadata": {},
     "output_type": "execute_result"
    }
   ],
   "source": [
    "scores"
   ]
  },
  {
   "cell_type": "code",
   "execution_count": 4,
   "metadata": {
    "ExecuteTime": {
     "end_time": "2018-03-31T03:47:40.219158Z",
     "start_time": "2018-03-31T03:47:40.148107Z"
    },
    "collapsed": true
   },
   "outputs": [],
   "source": [
    "from sklearn.model_selection import GridSearchCV\n",
    "from sklearn.svm import SVC"
   ]
  },
  {
   "cell_type": "code",
   "execution_count": 5,
   "metadata": {
    "ExecuteTime": {
     "end_time": "2018-03-31T03:47:45.586063Z",
     "start_time": "2018-03-31T03:47:45.582059Z"
    },
    "collapsed": true
   },
   "outputs": [],
   "source": [
    "clf = GridSearchCV(\n",
    "    SVC(),\n",
    "    {'kernel': ['rbf', 'poly'], 'C': [0.001, 1, 10]},\n",
    "    scoring='f1',\n",
    "    n_jobs=-1\n",
    ")"
   ]
  },
  {
   "cell_type": "code",
   "execution_count": null,
   "metadata": {
    "ExecuteTime": {
     "start_time": "2018-03-31T03:47:48.059Z"
    },
    "collapsed": true
   },
   "outputs": [],
   "source": [
    "clf.fit(X, y)"
   ]
  },
  {
   "cell_type": "code",
   "execution_count": null,
   "metadata": {
    "ExecuteTime": {
     "start_time": "2018-03-31T03:39:52.733Z"
    },
    "collapsed": true
   },
   "outputs": [],
   "source": [
    "clf.cv_results_"
   ]
  },
  {
   "cell_type": "code",
   "execution_count": 13,
   "metadata": {
    "ExecuteTime": {
     "end_time": "2018-03-31T03:34:19.536974Z",
     "start_time": "2018-03-31T03:34:19.520963Z"
    },
    "scrolled": true
   },
   "outputs": [
    {
     "name": "stderr",
     "output_type": "stream",
     "text": [
      "C:\\Users\\Administrator\\Anaconda3\\lib\\site-packages\\sklearn\\utils\\deprecation.py:122: FutureWarning: You are accessing a training score ('mean_train_score'), which will not be available by default any more in 0.21. If you need training scores, please set return_train_score=True\n",
      "  warnings.warn(*warn_args, **warn_kwargs)\n",
      "C:\\Users\\Administrator\\Anaconda3\\lib\\site-packages\\sklearn\\utils\\deprecation.py:122: FutureWarning: You are accessing a training score ('split0_train_score'), which will not be available by default any more in 0.21. If you need training scores, please set return_train_score=True\n",
      "  warnings.warn(*warn_args, **warn_kwargs)\n",
      "C:\\Users\\Administrator\\Anaconda3\\lib\\site-packages\\sklearn\\utils\\deprecation.py:122: FutureWarning: You are accessing a training score ('split1_train_score'), which will not be available by default any more in 0.21. If you need training scores, please set return_train_score=True\n",
      "  warnings.warn(*warn_args, **warn_kwargs)\n",
      "C:\\Users\\Administrator\\Anaconda3\\lib\\site-packages\\sklearn\\utils\\deprecation.py:122: FutureWarning: You are accessing a training score ('split2_train_score'), which will not be available by default any more in 0.21. If you need training scores, please set return_train_score=True\n",
      "  warnings.warn(*warn_args, **warn_kwargs)\n",
      "C:\\Users\\Administrator\\Anaconda3\\lib\\site-packages\\sklearn\\utils\\deprecation.py:122: FutureWarning: You are accessing a training score ('std_train_score'), which will not be available by default any more in 0.21. If you need training scores, please set return_train_score=True\n",
      "  warnings.warn(*warn_args, **warn_kwargs)\n"
     ]
    },
    {
     "data": {
      "text/plain": [
       "{'mean_fit_time': array([ 11.92215776,  13.93207614,  15.42875417,  15.76948428,\n",
       "         16.00447615,  16.01548378,  16.1870997 ,  15.77065142,\n",
       "         14.59854555,  12.38040058]),\n",
       " 'mean_score_time': array([ 0.56821767,  0.56338064,  0.58272696,  0.5708859 ,  0.57422225,\n",
       "         0.5640475 ,  0.55554183,  0.56488156,  0.47282688,  0.36459247]),\n",
       " 'mean_test_score': array([ 0.84263926,  0.84263926,  0.84263926,  0.84263926,  0.84263926,\n",
       "         0.84263926,  0.84263926,  0.84263926,  0.84263926,  0.84263926]),\n",
       " 'mean_train_score': array([ 0.84832612,  0.84832612,  0.84832612,  0.84832612,  0.84832612,\n",
       "         0.84832612,  0.84832612,  0.84832612,  0.84832612,  0.84832612]),\n",
       " 'param_C': masked_array(data = [0.001 0.001 0.01 0.01 0.1 0.1 1 1 10 10],\n",
       "              mask = [False False False False False False False False False False],\n",
       "        fill_value = ?),\n",
       " 'param_kernel': masked_array(data = ['rbf' 'poly' 'rbf' 'poly' 'rbf' 'poly' 'rbf' 'poly' 'rbf' 'poly'],\n",
       "              mask = [False False False False False False False False False False],\n",
       "        fill_value = ?),\n",
       " 'params': [{'C': 0.001, 'kernel': 'rbf'},\n",
       "  {'C': 0.001, 'kernel': 'poly'},\n",
       "  {'C': 0.01, 'kernel': 'rbf'},\n",
       "  {'C': 0.01, 'kernel': 'poly'},\n",
       "  {'C': 0.1, 'kernel': 'rbf'},\n",
       "  {'C': 0.1, 'kernel': 'poly'},\n",
       "  {'C': 1, 'kernel': 'rbf'},\n",
       "  {'C': 1, 'kernel': 'poly'},\n",
       "  {'C': 10, 'kernel': 'rbf'},\n",
       "  {'C': 10, 'kernel': 'poly'}],\n",
       " 'rank_test_score': array([1, 1, 1, 1, 1, 1, 1, 1, 1, 1]),\n",
       " 'split0_test_score': array([ 0.86547507,  0.86547507,  0.86547507,  0.86547507,  0.86547507,\n",
       "         0.86547507,  0.86547507,  0.86547507,  0.86547507,  0.86547507]),\n",
       " 'split0_train_score': array([ 0.85331026,  0.85331026,  0.85331026,  0.85331026,  0.85331026,\n",
       "         0.85331026,  0.85331026,  0.85331026,  0.85331026,  0.85331026]),\n",
       " 'split1_test_score': array([ 0.80128205,  0.80128205,  0.80128205,  0.80128205,  0.80128205,\n",
       "         0.80128205,  0.80128205,  0.80128205,  0.80128205,  0.80128205]),\n",
       " 'split1_train_score': array([ 0.8426528,  0.8426528,  0.8426528,  0.8426528,  0.8426528,\n",
       "         0.8426528,  0.8426528,  0.8426528,  0.8426528,  0.8426528]),\n",
       " 'split2_test_score': array([ 0.86115993,  0.86115993,  0.86115993,  0.86115993,  0.86115993,\n",
       "         0.86115993,  0.86115993,  0.86115993,  0.86115993,  0.86115993]),\n",
       " 'split2_train_score': array([ 0.84901532,  0.84901532,  0.84901532,  0.84901532,  0.84901532,\n",
       "         0.84901532,  0.84901532,  0.84901532,  0.84901532,  0.84901532]),\n",
       " 'std_fit_time': array([ 1.45619045,  0.56663294,  0.81573096,  0.41147581,  0.90922007,\n",
       "         1.09476607,  0.83977864,  0.67015442,  0.38277002,  0.39600585]),\n",
       " 'std_score_time': array([ 0.0297896 ,  0.0264095 ,  0.05006755,  0.03081304,  0.02273239,\n",
       "         0.04212787,  0.03343253,  0.05329494,  0.00935299,  0.0036547 ]),\n",
       " 'std_test_score': array([ 0.02929697,  0.02929697,  0.02929697,  0.02929697,  0.02929697,\n",
       "         0.02929697,  0.02929697,  0.02929697,  0.02929697,  0.02929697]),\n",
       " 'std_train_score': array([ 0.0043781,  0.0043781,  0.0043781,  0.0043781,  0.0043781,\n",
       "         0.0043781,  0.0043781,  0.0043781,  0.0043781,  0.0043781])}"
      ]
     },
     "execution_count": 13,
     "metadata": {},
     "output_type": "execute_result"
    }
   ],
   "source": [
    "clf.cv_results_"
   ]
  },
  {
   "cell_type": "code",
   "execution_count": null,
   "metadata": {
    "collapsed": true
   },
   "outputs": [],
   "source": []
  }
 ],
 "metadata": {
  "hide_input": false,
  "kernelspec": {
   "display_name": "Python 3",
   "language": "python",
   "name": "python3"
  },
  "language_info": {
   "codemirror_mode": {
    "name": "ipython",
    "version": 3
   },
   "file_extension": ".py",
   "mimetype": "text/x-python",
   "name": "python",
   "nbconvert_exporter": "python",
   "pygments_lexer": "ipython3",
   "version": "3.6.1"
  },
  "toc": {
   "nav_menu": {},
   "number_sections": true,
   "sideBar": true,
   "skip_h1_title": false,
   "toc_cell": false,
   "toc_position": {},
   "toc_section_display": "block",
   "toc_window_display": false
  }
 },
 "nbformat": 4,
 "nbformat_minor": 2
}
