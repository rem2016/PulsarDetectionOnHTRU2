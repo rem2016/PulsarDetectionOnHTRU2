{
 "cells": [
  {
   "cell_type": "code",
   "execution_count": 1,
   "metadata": {
    "ExecuteTime": {
     "end_time": "2018-04-01T14:09:21.911499Z",
     "start_time": "2018-04-01T14:09:20.594643Z"
    }
   },
   "outputs": [],
   "source": [
    "import numpy as np\n",
    "import os\n",
    "import pickle\n",
    "import seaborn as sns\n",
    "import pandas as pd\n",
    "import matplotlib.pyplot as plt\n",
    "from sklearn.neighbors import KNeighborsClassifier\n",
    "from sklearn.pipeline import make_pipeline\n",
    "from sklearn.preprocessing import StandardScaler, MinMaxScaler\n",
    "from imblearn.over_sampling import SMOTE\n",
    "from sklearn.decomposition import PCA\n",
    "import model\n",
    "import evaluation\n",
    "import preprocess\n",
    "from collections import defaultdict\n",
    "from sklearn.model_selection import train_test_split\n",
    "from IPython.display import display, Markdown\n",
    "import warnings\n",
    "import tuning\n",
    "\n",
    "\n",
    "warnings.filterwarnings(\"ignore\")\n",
    "%matplotlib inline\n",
    "\n",
    "dict_best_estimators, dict_best_params, dict_scores = tuning.load_tuning_result()\n",
    "X_train, X_test, y_train, y_test = preprocess.load_train_test()"
   ]
  },
  {
   "cell_type": "code",
   "execution_count": 4,
   "metadata": {
    "ExecuteTime": {
     "end_time": "2018-04-01T14:09:33.265581Z",
     "start_time": "2018-04-01T14:09:33.235555Z"
    },
    "scrolled": true
   },
   "outputs": [
    {
     "data": {
      "text/plain": [
       "'DecisionTree'"
      ]
     },
     "metadata": {},
     "output_type": "display_data"
    },
    {
     "data": {
      "text/plain": [
       "'max_depth:5;sample_method:None;sample_ratio:0.25'"
      ]
     },
     "metadata": {},
     "output_type": "display_data"
    },
    {
     "data": {
      "text/plain": [
       "test_score     0.823585\n",
       "train_score    0.858645\n",
       "fit_time       0.062375\n",
       "score_time     0.003170\n",
       "Name: max_depth:5;sample_method:None;sample_ratio:0.25, dtype: float64"
      ]
     },
     "metadata": {},
     "output_type": "display_data"
    },
    {
     "data": {
      "text/plain": [
       "'SVM'"
      ]
     },
     "metadata": {},
     "output_type": "display_data"
    },
    {
     "data": {
      "text/plain": [
       "'C:1;kernel:rbf'"
      ]
     },
     "metadata": {},
     "output_type": "display_data"
    },
    {
     "data": {
      "text/plain": [
       "test_score     0.865553\n",
       "train_score    0.878474\n",
       "fit_time       5.291261\n",
       "score_time     0.176287\n",
       "Name: C:1;kernel:rbf, dtype: float64"
      ]
     },
     "metadata": {},
     "output_type": "display_data"
    },
    {
     "data": {
      "text/plain": [
       "'LR'"
      ]
     },
     "metadata": {},
     "output_type": "display_data"
    },
    {
     "data": {
      "text/plain": [
       "'C:1.0;balanced_learning:True;penalty:l1;sample_method:<function downsampling at 0x000001F5111A28C8>;sample_ratio:0.3333333333333333'"
      ]
     },
     "metadata": {},
     "output_type": "display_data"
    },
    {
     "data": {
      "text/plain": [
       "test_score     0.838488\n",
       "train_score    0.858438\n",
       "fit_time       0.018680\n",
       "score_time     0.005003\n",
       "Name: C:1.0;balanced_learning:True;penalty:l1;sample_method:<function downsampling at 0x000001F5111A28C8>;sample_ratio:0.3333333333333333, dtype: float64"
      ]
     },
     "metadata": {},
     "output_type": "display_data"
    },
    {
     "data": {
      "text/plain": [
       "'XGBoost'"
      ]
     },
     "metadata": {},
     "output_type": "display_data"
    },
    {
     "data": {
      "text/plain": [
       "'gamma:0.0;learning_rate:0.25;max_depth:100;min_child_weight:1;n_estimators:400'"
      ]
     },
     "metadata": {},
     "output_type": "display_data"
    },
    {
     "data": {
      "text/plain": [
       "test_score     0.890047\n",
       "train_score    1.000000\n",
       "fit_time       6.337639\n",
       "score_time     0.028353\n",
       "Name: gamma:0.0;learning_rate:0.25;max_depth:100;min_child_weight:1;n_estimators:400, dtype: float64"
      ]
     },
     "metadata": {},
     "output_type": "display_data"
    }
   ],
   "source": [
    "# best scores\n",
    "for name, tem in dict_scores.items():\n",
    "    display(name)\n",
    "    index = tem.test_score.argmax()\n",
    "    display(index)\n",
    "    display(tem.loc[index])"
   ]
  },
  {
   "cell_type": "code",
   "execution_count": 8,
   "metadata": {
    "ExecuteTime": {
     "end_time": "2018-04-01T14:10:29.208608Z",
     "start_time": "2018-04-01T14:10:16.845111Z"
    },
    "scrolled": false
   },
   "outputs": [
    {
     "data": {
      "text/markdown": [
       "-----"
      ],
      "text/plain": [
       "<IPython.core.display.Markdown object>"
      ]
     },
     "metadata": {},
     "output_type": "display_data"
    },
    {
     "data": {
      "text/markdown": [
       "**DecisionTree**"
      ],
      "text/plain": [
       "<IPython.core.display.Markdown object>"
      ]
     },
     "metadata": {},
     "output_type": "display_data"
    },
    {
     "name": "stdout",
     "output_type": "stream",
     "text": [
      "the recall for this model is : 0.888235294118\n"
     ]
    },
    {
     "data": {
      "image/png": "[encoded data removed]",
      "text/plain": [
       "<matplotlib.figure.Figure at 0x1f143e757f0>"
      ]
     },
     "metadata": {},
     "output_type": "display_data"
    },
    {
     "name": "stdout",
     "output_type": "stream",
     "text": [
      "\n",
      "----------Classification Report------------------------------------\n",
      "             precision    recall  f1-score   support\n",
      "\n",
      "          0       0.99      0.95      0.97      4860\n",
      "          1       0.65      0.89      0.75       510\n",
      "\n",
      "avg / total       0.96      0.94      0.95      5370\n",
      "\n"
     ]
    },
    {
     "data": {
      "text/plain": [
       "{'test': {'f1': 0.75374376039933433, 'roc_auc': 0.93713568143306702},\n",
       " 'train': {'f1': 0.87114197530864201, 'roc_auc': 0.99857973960235058}}"
      ]
     },
     "metadata": {},
     "output_type": "display_data"
    },
    {
     "data": {
      "text/markdown": [
       "-----"
      ],
      "text/plain": [
       "<IPython.core.display.Markdown object>"
      ]
     },
     "metadata": {},
     "output_type": "display_data"
    },
    {
     "data": {
      "text/markdown": [
       "**SVM**"
      ],
      "text/plain": [
       "<IPython.core.display.Markdown object>"
      ]
     },
     "metadata": {},
     "output_type": "display_data"
    },
    {
     "name": "stdout",
     "output_type": "stream",
     "text": [
      "the recall for this model is : 0.894117647059\n"
     ]
    },
    {
     "data": {
      "image/png": "[encoded data removed]",
      "text/plain": [
       "<matplotlib.figure.Figure at 0x1f1496551d0>"
      ]
     },
     "metadata": {},
     "output_type": "display_data"
    },
    {
     "name": "stdout",
     "output_type": "stream",
     "text": [
      "\n",
      "----------Classification Report------------------------------------\n",
      "             precision    recall  f1-score   support\n",
      "\n",
      "          0       0.99      0.98      0.98      4860\n",
      "          1       0.81      0.89      0.85       510\n",
      "\n",
      "avg / total       0.97      0.97      0.97      5370\n",
      "\n"
     ]
    },
    {
     "data": {
      "text/plain": [
       "{'test': {'f1': 0.84995340167753963, 'roc_auc': 0.97884329863632702},\n",
       " 'train': {'f1': 0.87526427061310774, 'roc_auc': 0.97808200508008447}}"
      ]
     },
     "metadata": {},
     "output_type": "display_data"
    },
    {
     "data": {
      "text/markdown": [
       "-----"
      ],
      "text/plain": [
       "<IPython.core.display.Markdown object>"
      ]
     },
     "metadata": {},
     "output_type": "display_data"
    },
    {
     "data": {
      "text/markdown": [
       "**LR**"
      ],
      "text/plain": [
       "<IPython.core.display.Markdown object>"
      ]
     },
     "metadata": {},
     "output_type": "display_data"
    },
    {
     "name": "stdout",
     "output_type": "stream",
     "text": [
      "the recall for this model is : 0.896078431373\n"
     ]
    },
    {
     "data": {
      "image/png": "[encoded data removed]",
      "text/plain": [
       "<matplotlib.figure.Figure at 0x1f1506477b8>"
      ]
     },
     "metadata": {},
     "output_type": "display_data"
    },
    {
     "name": "stdout",
     "output_type": "stream",
     "text": [
      "\n",
      "----------Classification Report------------------------------------\n",
      "             precision    recall  f1-score   support\n",
      "\n",
      "          0       0.99      0.97      0.98      4860\n",
      "          1       0.77      0.90      0.83       510\n",
      "\n",
      "avg / total       0.97      0.96      0.97      5370\n",
      "\n"
     ]
    },
    {
     "data": {
      "text/plain": [
       "{'test': {'f1': 0.8294010889292196, 'roc_auc': 0.97607036230129907},\n",
       " 'train': {'f1': 0.85407193054981401, 'roc_auc': 0.97693844603247504}}"
      ]
     },
     "metadata": {},
     "output_type": "display_data"
    },
    {
     "data": {
      "text/markdown": [
       "-----"
      ],
      "text/plain": [
       "<IPython.core.display.Markdown object>"
      ]
     },
     "metadata": {},
     "output_type": "display_data"
    },
    {
     "data": {
      "text/markdown": [
       "**XGBoost**"
      ],
      "text/plain": [
       "<IPython.core.display.Markdown object>"
      ]
     },
     "metadata": {},
     "output_type": "display_data"
    },
    {
     "name": "stdout",
     "output_type": "stream",
     "text": [
      "the recall for this model is : 0.850980392157\n"
     ]
    },
    {
     "data": {
      "image/png": "[encoded data removed]",
      "text/plain": [
       "<matplotlib.figure.Figure at 0x1f15069d940>"
      ]
     },
     "metadata": {},
     "output_type": "display_data"
    },
    {
     "name": "stdout",
     "output_type": "stream",
     "text": [
      "\n",
      "----------Classification Report------------------------------------\n",
      "             precision    recall  f1-score   support\n",
      "\n",
      "          0       0.98      0.99      0.99      4860\n",
      "          1       0.91      0.85      0.88       510\n",
      "\n",
      "avg / total       0.98      0.98      0.98      5370\n",
      "\n"
     ]
    },
    {
     "data": {
      "text/plain": [
       "{'test': {'f1': 0.8776541961577351, 'roc_auc': 0.97499193092875014},\n",
       " 'train': {'f1': 0.99599822143174743, 'roc_auc': 0.99999704727568051}}"
      ]
     },
     "metadata": {},
     "output_type": "display_data"
    }
   ],
   "source": [
    "mds = []\n",
    "for md_name, md in tuning.models.items():\n",
    "    params = dict_best_params[md_name]\n",
    "    display(Markdown(\"-----\"))\n",
    "    display(Markdown(\"**{}**\".format(md_name)))\n",
    "    scores = evaluation.estimate(md(**params), X_train, X_test, y_train, y_test, use_confusion_matrix=True)\n",
    "    display(scores)"
   ]
  },
  {
   "cell_type": "code",
   "execution_count": null,
   "metadata": {
    "collapsed": true
   },
   "outputs": [],
   "source": []
  }
 ],
 "metadata": {
  "hide_input": false,
  "kernelspec": {
   "display_name": "Python 3",
   "language": "python",
   "name": "python3"
  },
  "language_info": {
   "codemirror_mode": {
    "name": "ipython",
    "version": 3
   },
   "file_extension": ".py",
   "mimetype": "text/x-python",
   "name": "python",
   "nbconvert_exporter": "python",
   "pygments_lexer": "ipython3",
   "version": "3.6.1"
  },
  "toc": {
   "nav_menu": {},
   "number_sections": true,
   "sideBar": true,
   "skip_h1_title": false,
   "toc_cell": false,
   "toc_position": {},
   "toc_section_display": "block",
   "toc_window_display": false
  }
 },
 "nbformat": 4,
 "nbformat_minor": 2
}
