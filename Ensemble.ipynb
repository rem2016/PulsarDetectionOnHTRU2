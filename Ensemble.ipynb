{
 "cells": [
  {
   "cell_type": "code",
   "execution_count": 1,
   "metadata": {
    "ExecuteTime": {
     "end_time": "2018-04-02T05:58:08.574634Z",
     "start_time": "2018-04-02T05:58:07.160224Z"
    }
   },
   "outputs": [],
   "source": [
    "import numpy as np\n",
    "import os\n",
    "import pickle\n",
    "import seaborn as sns\n",
    "import pandas as pd\n",
    "import matplotlib.pyplot as plt\n",
    "from sklearn.neural_network import MLPClassifier\n",
    "from sklearn.neighbors import KNeighborsClassifier\n",
    "from sklearn.pipeline import make_pipeline\n",
    "from sklearn.preprocessing import StandardScaler, MinMaxScaler\n",
    "from imblearn.over_sampling import SMOTE\n",
    "from sklearn.decomposition import PCA\n",
    "import model\n",
    "import evaluation\n",
    "import preprocess\n",
    "from collections import defaultdict\n",
    "from sklearn.model_selection import train_test_split\n",
    "from IPython.display import display, Markdown\n",
    "import warnings\n",
    "import tuning\n",
    "\n",
    "\n",
    "warnings.filterwarnings(\"ignore\")\n",
    "%matplotlib inline\n",
    "\n",
    "dict_best_estimators, dict_best_params, dict_scores = tuning.load_tuning_result()\n",
    "X, y = preprocess.load_data()\n",
    "X_train, X_test, y_train, y_test = preprocess.load_train_test()\n",
    "ensemble_params = dict_best_params.copy()\n",
    "ensemble_params['DecisionTree']['splitter'] = 'random'\n",
    "ensemble_params['DecisionTree']['max_depth'] = 5\n",
    "\n"
   ]
  },
  {
   "cell_type": "markdown",
   "metadata": {},
   "source": [
    "# Proba"
   ]
  },
  {
   "cell_type": "code",
   "execution_count": 10,
   "metadata": {
    "ExecuteTime": {
     "end_time": "2018-04-02T04:11:26.794892Z",
     "start_time": "2018-04-02T04:11:26.787887Z"
    }
   },
   "outputs": [],
   "source": [
    "mds = []\n",
    "model_num = {\n",
    "    'DecisionTree': 15,\n",
    "    'LR': 15,\n",
    "    'SVM': 15,\n",
    "    'XGBoost': 0\n",
    "}\n",
    "for md_name, md in tuning.models.items():\n",
    "    params = ensemble_params[md_name]\n",
    "    for i in range(model_num[md_name]):\n",
    "        mds.append(md(**params))\n",
    "       "
   ]
  },
  {
   "cell_type": "code",
   "execution_count": 12,
   "metadata": {
    "ExecuteTime": {
     "end_time": "2018-04-02T04:20:43.359930Z",
     "start_time": "2018-04-02T04:20:10.886304Z"
    }
   },
   "outputs": [
    {
     "data": {
      "text/markdown": [
       "**MLPEnsemble**"
      ],
      "text/plain": [
       "<IPython.core.display.Markdown object>"
      ]
     },
     "metadata": {},
     "output_type": "display_data"
    },
    {
     "name": "stdout",
     "output_type": "stream",
     "text": [
      "the recall for this model is : 0.874509803922\n"
     ]
    },
    {
     "data": {
      "image/png": "[encoded data removed]",
      "text/plain": [
       "<matplotlib.figure.Figure at 0x224ced4f320>"
      ]
     },
     "metadata": {},
     "output_type": "display_data"
    },
    {
     "name": "stdout",
     "output_type": "stream",
     "text": [
      "\n",
      "----------Classification Report------------------------------------\n",
      "             precision    recall  f1-score   support\n",
      "\n",
      "          0       0.99      0.99      0.99      4860\n",
      "          1       0.87      0.87      0.87       510\n",
      "\n",
      "avg / total       0.98      0.98      0.98      5370\n",
      "\n"
     ]
    },
    {
     "data": {
      "text/markdown": [
       "Test Set Scores"
      ],
      "text/plain": [
       "<IPython.core.display.Markdown object>"
      ]
     },
     "metadata": {},
     "output_type": "display_data"
    },
    {
     "data": {
      "text/plain": [
       "{'test': {'f1': 0.87024390243902427, 'roc_auc': 0.97134148309529589},\n",
       " 'train': {'f1': 0.88948069241011984, 'roc_auc': 0.97371989882101606}}"
      ]
     },
     "metadata": {},
     "output_type": "display_data"
    },
    {
     "data": {
      "text/markdown": [
       "K-Fold Scores on Whole Data Set"
      ],
      "text/plain": [
       "<IPython.core.display.Markdown object>"
      ]
     },
     "metadata": {},
     "output_type": "display_data"
    },
    {
     "data": {
      "text/markdown": [
       "mean([ 0.8741573   0.88888889  0.90052356])=0.8878565841563665"
      ],
      "text/plain": [
       "<IPython.core.display.Markdown object>"
      ]
     },
     "metadata": {},
     "output_type": "display_data"
    }
   ],
   "source": [
    "md = model.MLPEnsemble(learners=mds, layers=[15], activation='logistic')\n",
    "\n",
    "display(Markdown(\"**MLPEnsemble**\"))\n",
    "scores = evaluation.estimate(\n",
    "    md,\n",
    "    X_train, X_test, y_train, y_test,\n",
    "    use_confusion_matrix=True\n",
    ")\n",
    "display(Markdown(\"Test Set Scores\"))\n",
    "display(scores)\n",
    "\n",
    "display(Markdown(\"K-Fold Scores on Whole Data Set\"))\n",
    "cv_scores = evaluation.cross_validation(md, X, y)\n",
    "display(Markdown(\"mean({})={}\".format(cv_scores, cv_scores.mean())))"
   ]
  },
  {
   "cell_type": "code",
   "execution_count": 22,
   "metadata": {
    "ExecuteTime": {
     "end_time": "2018-04-02T04:39:34.189859Z",
     "start_time": "2018-04-02T04:38:05.188347Z"
    }
   },
   "outputs": [
    {
     "data": {
      "text/markdown": [
       "**Logistic Regression Ensemble (15 SVMs, 15 LRs, 15 DecisionTrees)**"
      ],
      "text/plain": [
       "<IPython.core.display.Markdown object>"
      ]
     },
     "metadata": {},
     "output_type": "display_data"
    },
    {
     "name": "stdout",
     "output_type": "stream",
     "text": [
      "the recall for this model is : 0.903921568627\n"
     ]
    },
    {
     "data": {
      "image/png": "[encoded data removed]",
      "text/plain": [
       "<matplotlib.figure.Figure at 0x224cec88b38>"
      ]
     },
     "metadata": {},
     "output_type": "display_data"
    },
    {
     "name": "stdout",
     "output_type": "stream",
     "text": [
      "\n",
      "----------Classification Report------------------------------------\n",
      "             precision    recall  f1-score   support\n",
      "\n",
      "          0       0.99      0.97      0.98      4860\n",
      "          1       0.74      0.90      0.81       510\n",
      "\n",
      "avg / total       0.97      0.96      0.96      5370\n",
      "\n"
     ]
    },
    {
     "data": {
      "text/markdown": [
       "Test Set Scores"
      ],
      "text/plain": [
       "<IPython.core.display.Markdown object>"
      ]
     },
     "metadata": {},
     "output_type": "display_data"
    },
    {
     "data": {
      "text/plain": [
       "{'test': {'f1': 0.81090589270008806, 'roc_auc': 0.97343581053820705},\n",
       " 'train': {'f1': 0.84008016032064137, 'roc_auc': 0.97611533527679584}}"
      ]
     },
     "metadata": {},
     "output_type": "display_data"
    },
    {
     "data": {
      "text/markdown": [
       "K-Fold Scores on Whole Data Set"
      ],
      "text/plain": [
       "<IPython.core.display.Markdown object>"
      ]
     },
     "metadata": {},
     "output_type": "display_data"
    },
    {
     "data": {
      "text/markdown": [
       "mean([ 0.83991684  0.85983067  0.83394834])=0.8445652824404043"
      ],
      "text/plain": [
       "<IPython.core.display.Markdown object>"
      ]
     },
     "metadata": {},
     "output_type": "display_data"
    }
   ],
   "source": [
    "mds = []\n",
    "model_num = {\n",
    "    'DecisionTree': 15,\n",
    "    'LR': 15,\n",
    "    'SVM': 15,\n",
    "    'XGBoost': 0\n",
    "}\n",
    "\n",
    "for md_name, md in tuning.models.items():\n",
    "    params = ensemble_params[md_name]\n",
    "    for i in range(model_num[md_name]):\n",
    "        mds.append(md(**params))\n",
    "       \n",
    "md = model.LinearEnsemble(learners=mds)\n",
    "\n",
    "display(Markdown(\"**Logistic Regression Ensemble (15 SVMs, 15 LRs, 15 DecisionTrees)**\"))\n",
    "scores = evaluation.estimate(\n",
    "    md,\n",
    "    X_train, X_test, y_train, y_test,\n",
    "    use_confusion_matrix=True\n",
    ")\n",
    "display(Markdown(\"Test Set Scores\"))\n",
    "display(scores)\n",
    "\n",
    "display(Markdown(\"K-Fold Scores on Whole Data Set\"))\n",
    "cv_scores = evaluation.cross_validation(md, X, y)\n",
    "display(Markdown(\"mean({})={}\".format(cv_scores, cv_scores.mean())))"
   ]
  },
  {
   "cell_type": "code",
   "execution_count": 21,
   "metadata": {
    "ExecuteTime": {
     "end_time": "2018-04-02T04:31:55.062971Z",
     "start_time": "2018-04-02T04:31:44.394637Z"
    }
   },
   "outputs": [
    {
     "data": {
      "text/markdown": [
       "**Logistic Regression Ensemble (1 SVM, 1 LR, 1 DecisionTree)**"
      ],
      "text/plain": [
       "<IPython.core.display.Markdown object>"
      ]
     },
     "metadata": {},
     "output_type": "display_data"
    },
    {
     "name": "stdout",
     "output_type": "stream",
     "text": [
      "the recall for this model is : 0.909803921569\n"
     ]
    },
    {
     "data": {
      "image/png": "[encoded data removed]",
      "text/plain": [
       "<matplotlib.figure.Figure at 0x224ced84e80>"
      ]
     },
     "metadata": {},
     "output_type": "display_data"
    },
    {
     "name": "stdout",
     "output_type": "stream",
     "text": [
      "\n",
      "----------Classification Report------------------------------------\n",
      "             precision    recall  f1-score   support\n",
      "\n",
      "          0       0.99      0.97      0.98      4860\n",
      "          1       0.73      0.91      0.81       510\n",
      "\n",
      "avg / total       0.97      0.96      0.96      5370\n",
      "\n"
     ]
    },
    {
     "data": {
      "text/markdown": [
       "Test Set Scores"
      ],
      "text/plain": [
       "<IPython.core.display.Markdown object>"
      ]
     },
     "metadata": {},
     "output_type": "display_data"
    },
    {
     "data": {
      "text/plain": [
       "{'test': {'f1': 0.81118881118881114, 'roc_auc': 0.97524449285887205},\n",
       " 'train': {'f1': 0.8385291766586731, 'roc_auc': 0.97648046294987589}}"
      ]
     },
     "metadata": {},
     "output_type": "display_data"
    },
    {
     "data": {
      "text/markdown": [
       "K-Fold Scores on Whole Data Set"
      ],
      "text/plain": [
       "<IPython.core.display.Markdown object>"
      ]
     },
     "metadata": {},
     "output_type": "display_data"
    },
    {
     "data": {
      "text/markdown": [
       "mean([ 0.84243697  0.87047619  0.84882629])=0.8539131521153062"
      ],
      "text/plain": [
       "<IPython.core.display.Markdown object>"
      ]
     },
     "metadata": {},
     "output_type": "display_data"
    }
   ],
   "source": [
    "mds = []\n",
    "model_num = {\n",
    "    'DecisionTree': 1,\n",
    "    'LR': 1,\n",
    "    'SVM': 1,\n",
    "    'XGBoost': 0\n",
    "}\n",
    "for md_name, md in tuning.models.items():\n",
    "    params = ensemble_params[md_name]\n",
    "    for i in range(model_num[md_name]):\n",
    "        mds.append(md(**params))\n",
    "       \n",
    "    \n",
    "md = model.LinearEnsemble(learners=mds, random)\n",
    "\n",
    "display(Markdown(\"**Logistic Regression Ensemble (1 SVM, 1 LR, 1 DecisionTree)**\"))\n",
    "scores = evaluation.estimate(\n",
    "    md,\n",
    "    X_train, X_test, y_train, y_test,\n",
    "    use_confusion_matrix=True\n",
    ")\n",
    "display(Markdown(\"Test Set Scores\"))\n",
    "display(scores)\n",
    "\n",
    "display(Markdown(\"K-Fold Scores on Whole Data Set\"))\n",
    "cv_scores = evaluation.cross_validation(md, X, y)\n",
    "display(Markdown(\"mean({})={}\".format(cv_scores, cv_scores.mean())))"
   ]
  },
  {
   "cell_type": "markdown",
   "metadata": {},
   "source": [
    "# Stacked"
   ]
  },
  {
   "cell_type": "code",
   "execution_count": 3,
   "metadata": {
    "ExecuteTime": {
     "end_time": "2018-04-02T03:48:17.110073Z",
     "start_time": "2018-04-02T03:48:09.346812Z"
    },
    "scrolled": false
   },
   "outputs": [
    {
     "data": {
      "text/markdown": [
       "**Stacked Ensemble (SVM with 3 LR to Filter)**"
      ],
      "text/plain": [
       "<IPython.core.display.Markdown object>"
      ]
     },
     "metadata": {},
     "output_type": "display_data"
    },
    {
     "name": "stdout",
     "output_type": "stream",
     "text": [
      "the recall for this model is : 0.864705882353\n"
     ]
    },
    {
     "data": {
      "image/png": "[encoded data removed]",
      "text/plain": [
       "<matplotlib.figure.Figure at 0x224cd6d0208>"
      ]
     },
     "metadata": {},
     "output_type": "display_data"
    },
    {
     "name": "stdout",
     "output_type": "stream",
     "text": [
      "\n",
      "----------Classification Report------------------------------------\n",
      "             precision    recall  f1-score   support\n",
      "\n",
      "          0       0.99      0.99      0.99      4860\n",
      "          1       0.90      0.86      0.88       510\n",
      "\n",
      "avg / total       0.98      0.98      0.98      5370\n",
      "\n"
     ]
    },
    {
     "data": {
      "text/markdown": [
       "Test Set Scores"
      ],
      "text/plain": [
       "<IPython.core.display.Markdown object>"
      ]
     },
     "metadata": {},
     "output_type": "display_data"
    },
    {
     "data": {
      "text/plain": [
       "{'test': {'f1': 0.88111888111888126, 'roc_auc': 0.84456205115791183},\n",
       " 'train': {'f1': 0.89080982711555956, 'roc_auc': 0.85345854542117539}}"
      ]
     },
     "metadata": {},
     "output_type": "display_data"
    },
    {
     "data": {
      "text/markdown": [
       "K-Fold Scores on Whole Data Set"
      ],
      "text/plain": [
       "<IPython.core.display.Markdown object>"
      ]
     },
     "metadata": {},
     "output_type": "display_data"
    },
    {
     "data": {
      "text/markdown": [
       "mean([ 0.88290398  0.89119171  0.90276356])=0.8922864176778181"
      ],
      "text/plain": [
       "<IPython.core.display.Markdown object>"
      ]
     },
     "metadata": {},
     "output_type": "display_data"
    },
    {
     "data": {
      "text/markdown": [
       "Average ratio of filtered samples = 0.669860"
      ],
      "text/plain": [
       "<IPython.core.display.Markdown object>"
      ]
     },
     "metadata": {},
     "output_type": "display_data"
    }
   ],
   "source": [
    "stacked =  [\n",
    "    model.LinearModel(**dict_best_params['LR']), \n",
    "    model.LinearModel(**dict_best_params['LR']), \n",
    "    model.LinearModel(**dict_best_params['LR']), \n",
    "] \n",
    "md = model.StackedEnsembleModel(learners=stacked, next_model=model.SVM(**dict_best_params['SVM']), min_recall=0.99)\n",
    "\n",
    "display(Markdown(\"**Stacked Ensemble (SVM with 3 LR to Filter)**\"))\n",
    "scores = evaluation.estimate(\n",
    "    md,\n",
    "    X_train, X_test, y_train, y_test,\n",
    "    use_confusion_matrix=True\n",
    ")\n",
    "display(Markdown(\"Test Set Scores\"))\n",
    "display(scores)\n",
    "\n",
    "display(Markdown(\"K-Fold Scores on Whole Data Set\"))\n",
    "cv_scores = evaluation.cross_validation(md, X, y)\n",
    "display(Markdown(\"mean({})={}\".format(cv_scores, cv_scores.mean())))\n",
    "\n",
    "filter_rate = np.mean(md.filter_rate_['predict'])\n",
    "display(Markdown(\"Average ratio of filtered samples = %f\" % (filter_rate, )))"
   ]
  },
  {
   "cell_type": "code",
   "execution_count": 9,
   "metadata": {
    "ExecuteTime": {
     "end_time": "2018-04-02T03:54:09.122064Z",
     "start_time": "2018-04-02T03:53:58.910925Z"
    }
   },
   "outputs": [
    {
     "data": {
      "text/markdown": [
       "**Stacked Ensemble (XGBoost with 3 LR to Filter)**"
      ],
      "text/plain": [
       "<IPython.core.display.Markdown object>"
      ]
     },
     "metadata": {},
     "output_type": "display_data"
    },
    {
     "name": "stdout",
     "output_type": "stream",
     "text": [
      "the recall for this model is : 0.852941176471\n"
     ]
    },
    {
     "data": {
      "image/png": "[encoded data removed]",
      "text/plain": [
       "<matplotlib.figure.Figure at 0x224ced4f400>"
      ]
     },
     "metadata": {},
     "output_type": "display_data"
    },
    {
     "name": "stdout",
     "output_type": "stream",
     "text": [
      "\n",
      "----------Classification Report------------------------------------\n",
      "             precision    recall  f1-score   support\n",
      "\n",
      "          0       0.98      0.99      0.99      4860\n",
      "          1       0.90      0.85      0.88       510\n",
      "\n",
      "avg / total       0.98      0.98      0.98      5370\n",
      "\n"
     ]
    },
    {
     "data": {
      "text/markdown": [
       "Test Set Scores"
      ],
      "text/plain": [
       "<IPython.core.display.Markdown object>"
      ]
     },
     "metadata": {},
     "output_type": "display_data"
    },
    {
     "data": {
      "text/plain": [
       "{'test': {'f1': 0.87701612903225801, 'roc_auc': 0.84493201807471963},\n",
       " 'train': {'f1': 0.9810469314079423, 'roc_auc': 0.85300157248110664}}"
      ]
     },
     "metadata": {},
     "output_type": "display_data"
    },
    {
     "data": {
      "text/markdown": [
       "K-Fold Scores on Whole Data Set"
      ],
      "text/plain": [
       "<IPython.core.display.Markdown object>"
      ]
     },
     "metadata": {},
     "output_type": "display_data"
    },
    {
     "data": {
      "text/markdown": [
       "mean([ 0.87383178  0.88445378  0.8994709 ])=0.8859188188948129"
      ],
      "text/plain": [
       "<IPython.core.display.Markdown object>"
      ]
     },
     "metadata": {},
     "output_type": "display_data"
    },
    {
     "data": {
      "text/markdown": [
       "Average ratio of filtered samples = 0.669860"
      ],
      "text/plain": [
       "<IPython.core.display.Markdown object>"
      ]
     },
     "metadata": {},
     "output_type": "display_data"
    }
   ],
   "source": [
    "stacked =  [\n",
    "    model.LinearModel(**dict_best_params['LR']), \n",
    "    model.LinearModel(**dict_best_params['LR']), \n",
    "    model.LinearModel(**dict_best_params['LR']), \n",
    "] \n",
    "com_model = model.XGBoost(**dict_best_params['XGBoost'])\n",
    "md = model.StackedEnsembleModel(learners=stacked, next_model=com_model, min_recall=0.99)\n",
    "\n",
    "display(Markdown(\"**Stacked Ensemble (XGBoost with 3 LR to Filter)**\"))\n",
    "scores = evaluation.estimate(\n",
    "    md,\n",
    "    X_train, X_test, y_train, y_test,\n",
    "    use_confusion_matrix=True\n",
    ")\n",
    "display(Markdown(\"Test Set Scores\"))\n",
    "display(scores)\n",
    "\n",
    "display(Markdown(\"K-Fold Scores on Whole Data Set\"))\n",
    "cv_scores = evaluation.cross_validation(md, X, y)\n",
    "display(Markdown(\"mean({})={}\".format(cv_scores, cv_scores.mean())))\n",
    "\n",
    "filter_rate = np.mean(md.filter_rate_['predict'])\n",
    "display(Markdown(\"Average ratio of filtered samples = %f\" % (filter_rate, )))"
   ]
  },
  {
   "cell_type": "code",
   "execution_count": 7,
   "metadata": {
    "ExecuteTime": {
     "end_time": "2018-04-02T03:53:49.396267Z",
     "start_time": "2018-04-02T03:53:44.616940Z"
    }
   },
   "outputs": [
    {
     "data": {
      "text/markdown": [
       "**Stacked Ensemble (Decision Tree with 3 LR to Filter)**"
      ],
      "text/plain": [
       "<IPython.core.display.Markdown object>"
      ]
     },
     "metadata": {},
     "output_type": "display_data"
    },
    {
     "data": {
      "text/markdown": [
       "(Max depth of decision tree is set to 4)"
      ],
      "text/plain": [
       "<IPython.core.display.Markdown object>"
      ]
     },
     "metadata": {},
     "output_type": "display_data"
    },
    {
     "name": "stdout",
     "output_type": "stream",
     "text": [
      "the recall for this model is : 0.850980392157\n"
     ]
    },
    {
     "data": {
      "image/png": "[encoded data removed]",
      "text/plain": [
       "<matplotlib.figure.Figure at 0x224ced91978>"
      ]
     },
     "metadata": {},
     "output_type": "display_data"
    },
    {
     "name": "stdout",
     "output_type": "stream",
     "text": [
      "\n",
      "----------Classification Report------------------------------------\n",
      "             precision    recall  f1-score   support\n",
      "\n",
      "          0       0.98      0.99      0.99      4860\n",
      "          1       0.90      0.85      0.87       510\n",
      "\n",
      "avg / total       0.98      0.98      0.98      5370\n",
      "\n"
     ]
    },
    {
     "data": {
      "text/markdown": [
       "Test Set Scores"
      ],
      "text/plain": [
       "<IPython.core.display.Markdown object>"
      ]
     },
     "metadata": {},
     "output_type": "display_data"
    },
    {
     "data": {
      "text/plain": [
       "{'test': {'f1': 0.87323943661971826, 'roc_auc': 0.84347696280158158},\n",
       " 'train': {'f1': 0.90287277701778379, 'roc_auc': 0.85332035015269847}}"
      ]
     },
     "metadata": {},
     "output_type": "display_data"
    },
    {
     "data": {
      "text/markdown": [
       "K-Fold Scores on Whole Data Set"
      ],
      "text/plain": [
       "<IPython.core.display.Markdown object>"
      ]
     },
     "metadata": {},
     "output_type": "display_data"
    },
    {
     "data": {
      "text/markdown": [
       "mean([ 0.8783314   0.88410256  0.84180791])=0.8680806252642772"
      ],
      "text/plain": [
       "<IPython.core.display.Markdown object>"
      ]
     },
     "metadata": {},
     "output_type": "display_data"
    },
    {
     "data": {
      "text/markdown": [
       "Average ratio of filtered samples = 0.669860"
      ],
      "text/plain": [
       "<IPython.core.display.Markdown object>"
      ]
     },
     "metadata": {},
     "output_type": "display_data"
    }
   ],
   "source": [
    "stacked =  [\n",
    "    model.LinearModel(**dict_best_params['LR']), \n",
    "    model.LinearModel(**dict_best_params['LR']), \n",
    "    model.LinearModel(**dict_best_params['LR']), \n",
    "] \n",
    "com_model = model.DecisionTree(max_depth=4)\n",
    "md = model.StackedEnsembleModel(learners=stacked, next_model=com_model, min_recall=0.99)\n",
    "\n",
    "display(Markdown(\"**Stacked Ensemble (Decision Tree with 3 LR to Filter)**\"))\n",
    "display(Markdown(\"(Max depth of decision tree is set to 4)\"))\n",
    "scores = evaluation.estimate(\n",
    "    md,\n",
    "    X_train, X_test, y_train, y_test,\n",
    "    use_confusion_matrix=True\n",
    ")\n",
    "display(Markdown(\"Test Set Scores\"))\n",
    "display(scores)\n",
    "\n",
    "display(Markdown(\"K-Fold Scores on Whole Data Set\"))\n",
    "cv_scores = evaluation.cross_validation(md, X, y)\n",
    "display(Markdown(\"mean({})={}\".format(cv_scores, cv_scores.mean())))\n",
    "\n",
    "filter_rate = np.mean(md.filter_rate_['predict'])\n",
    "display(Markdown(\"Average ratio of filtered samples = %f\" % (filter_rate, )))"
   ]
  },
  {
   "cell_type": "code",
   "execution_count": 4,
   "metadata": {
    "ExecuteTime": {
     "end_time": "2018-04-02T05:58:49.063692Z",
     "start_time": "2018-04-02T05:58:41.419814Z"
    },
    "scrolled": false
   },
   "outputs": [
    {
     "data": {
      "text/markdown": [
       "**Stacked Ensemble with min_neg_recall(SVM with 3 LR to Filter)**"
      ],
      "text/plain": [
       "<IPython.core.display.Markdown object>"
      ]
     },
     "metadata": {},
     "output_type": "display_data"
    },
    {
     "name": "stdout",
     "output_type": "stream",
     "text": [
      "the recall for this model is : 0.8666666666666667\n"
     ]
    },
    {
     "data": {
      "image/png": "[encoded data removed]",
      "text/plain": [
       "<matplotlib.figure.Figure at 0x29a35e4f358>"
      ]
     },
     "metadata": {},
     "output_type": "display_data"
    },
    {
     "name": "stdout",
     "output_type": "stream",
     "text": [
      "\n",
      "----------Classification Report------------------------------------\n",
      "             precision    recall  f1-score   support\n",
      "\n",
      "          0       0.99      0.99      0.99      4860\n",
      "          1       0.88      0.87      0.87       510\n",
      "\n",
      "avg / total       0.98      0.98      0.98      5370\n",
      "\n"
     ]
    },
    {
     "data": {
      "text/markdown": [
       "Test Set Scores"
      ],
      "text/plain": [
       "<IPython.core.display.Markdown object>"
      ]
     },
     "metadata": {},
     "output_type": "display_data"
    },
    {
     "data": {
      "text/plain": [
       "{'test': {'f1': 0.8726554787759132, 'roc_auc': 0.9714268135237635},\n",
       " 'train': {'f1': 0.8917826672653795, 'roc_auc': 0.9721189006137082}}"
      ]
     },
     "metadata": {},
     "output_type": "display_data"
    },
    {
     "data": {
      "text/markdown": [
       "K-Fold Scores on Whole Data Set"
      ],
      "text/plain": [
       "<IPython.core.display.Markdown object>"
      ]
     },
     "metadata": {},
     "output_type": "display_data"
    },
    {
     "data": {
      "text/markdown": [
       "mean([0.87878788 0.88730964 0.90184049])=0.8893126714184918"
      ],
      "text/plain": [
       "<IPython.core.display.Markdown object>"
      ]
     },
     "metadata": {},
     "output_type": "display_data"
    },
    {
     "data": {
      "text/markdown": [
       "Average ratio of filtered samples = 0.680103"
      ],
      "text/plain": [
       "<IPython.core.display.Markdown object>"
      ]
     },
     "metadata": {},
     "output_type": "display_data"
    }
   ],
   "source": [
    "stacked =  [\n",
    "    model.LinearModel(**dict_best_params['LR']), \n",
    "    model.LinearModel(**dict_best_params['LR']), \n",
    "    model.LinearModel(**dict_best_params['LR']), \n",
    "] \n",
    "md = model.StackedEnsembleModel(learners=stacked, \n",
    "                                next_model=model.SVM(**dict_best_params['SVM']), \n",
    "                                min_recall=0.99, min_neg_recall=0.95)\n",
    "\n",
    "display(Markdown(\"**Stacked Ensemble with min_neg_recall(SVM with 3 LR to Filter)**\"))\n",
    "scores = evaluation.estimate(\n",
    "    md,\n",
    "    X_train, X_test, y_train, y_test,\n",
    "    use_confusion_matrix=True\n",
    ")\n",
    "display(Markdown(\"Test Set Scores\"))\n",
    "display(scores)\n",
    "\n",
    "display(Markdown(\"K-Fold Scores on Whole Data Set\"))\n",
    "cv_scores = evaluation.cross_validation(md, X, y)\n",
    "display(Markdown(\"mean({})={}\".format(cv_scores, cv_scores.mean())))\n",
    "\n",
    "filter_rate = np.mean(md.filter_rate_['predict'])\n",
    "display(Markdown(\"Average ratio of filtered samples = %f\" % (filter_rate, )))"
   ]
  }
 ],
 "metadata": {
  "hide_input": false,
  "kernelspec": {
   "display_name": "Python 3",
   "language": "python",
   "name": "python3"
  },
  "language_info": {
   "codemirror_mode": {
    "name": "ipython",
    "version": 3
   },
   "file_extension": ".py",
   "mimetype": "text/x-python",
   "name": "python",
   "nbconvert_exporter": "python",
   "pygments_lexer": "ipython3",
   "version": "3.6.4"
  },
  "toc": {
   "nav_menu": {},
   "number_sections": true,
   "sideBar": true,
   "skip_h1_title": false,
   "toc_cell": false,
   "toc_position": {},
   "toc_section_display": "block",
   "toc_window_display": true
  }
 },
 "nbformat": 4,
 "nbformat_minor": 2
}
