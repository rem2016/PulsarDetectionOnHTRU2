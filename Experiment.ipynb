{
 "cells": [
  {
   "cell_type": "code",
   "execution_count": null,
   "metadata": {
    "ExecuteTime": {
     "start_time": "2018-03-30T16:30:00.416Z"
    }
   },
   "outputs": [],
   "source": [
    "import numpy as np\n",
    "import seaborn as sns\n",
    "import pandas as pd\n",
    "import matplotlib.pyplot as plt\n",
    "from sklearn.neighbors import KNeighborsClassifier\n",
    "from sklearn.pipeline import make_pipeline\n",
    "from sklearn.preprocessing import StandardScaler, MinMaxScaler\n",
    "from imblearn.over_sampling import SMOTE\n",
    "import model\n",
    "import evaluation\n",
    "import preprocess\n",
    "from collections import defaultdict\n",
    "from IPython.display import display, Markdown\n",
    "\n",
    "%matplotlib inline"
   ]
  },
  {
   "cell_type": "markdown",
   "metadata": {},
   "source": [
    "模型cross validation 1次的时间大概在 4s 左右"
   ]
  },
  {
   "cell_type": "code",
   "execution_count": null,
   "metadata": {
    "ExecuteTime": {
     "start_time": "2018-03-30T16:25:46.875Z"
    }
   },
   "outputs": [],
   "source": [
    "X, y = preprocess.load_data()\n",
    "X_norm = X - np.mean(0)\n",
    "X_norm /= np.std(X_norm, 0)\n",
    "X = np.concatenate([X, np.exp(X_norm)], axis=1)"
   ]
  },
  {
   "cell_type": "code",
   "execution_count": null,
   "metadata": {
    "ExecuteTime": {
     "start_time": "2018-03-30T16:25:46.877Z"
    },
    "collapsed": true
   },
   "outputs": [],
   "source": [
    "models = {\n",
    "    'DecisionTree': model.DecisionTree,\n",
    "    'SVM': model.SVM,\n",
    "    'LR': model.LinearModel,\n",
    "    'XGBoost': model.XGBoost\n",
    "}"
   ]
  },
  {
   "cell_type": "markdown",
   "metadata": {},
   "source": [
    "## Model View"
   ]
  },
  {
   "cell_type": "code",
   "execution_count": null,
   "metadata": {
    "ExecuteTime": {
     "start_time": "2018-03-30T16:25:46.878Z"
    },
    "collapsed": true
   },
   "outputs": [],
   "source": [
    "dfs_results = defaultdict(lambda: pd.DataFrame(columns=['f1', 'roc_auc']))"
   ]
  },
  {
   "cell_type": "code",
   "execution_count": null,
   "metadata": {
    "ExecuteTime": {
     "start_time": "2018-03-30T16:25:46.879Z"
    }
   },
   "outputs": [],
   "source": [
    "# 1m 39s\n",
    "for name, md in models.items():\n",
    "    for use_balanced_trick in (True, False):\n",
    "        result = evaluation.cross_validation(md(balanced_learning=use_balanced_trick), X, y, scoring='both', n_jobs=-1)\n",
    "        display(Markdown(\"**{}**\".format(name)))\n",
    "        display(Markdown(\"- f1: {}\".format(result['f1'])))\n",
    "        display(Markdown(\"- roc_auc: {}\".format(result['roc_auc'])))\n",
    "        if use_balanced_trick:\n",
    "            dfs_results['origin'].loc[name] = result['f1'].mean(), result['roc_auc'].mean()\n",
    "        else:\n",
    "            dfs_results['model_balance'].loc[name] = result['f1'].mean(), result['roc_auc'].mean()\n"
   ]
  },
  {
   "cell_type": "markdown",
   "metadata": {},
   "source": [
    "## Data View"
   ]
  },
  {
   "cell_type": "code",
   "execution_count": null,
   "metadata": {
    "ExecuteTime": {
     "start_time": "2018-03-30T16:25:46.881Z"
    }
   },
   "outputs": [],
   "source": [
    "# 5min\n",
    "sample_methods = {\n",
    "    'smote': preprocess.get_smote('regular'),\n",
    "    'sm_bl1': preprocess.get_smote('borderline1'),\n",
    "    'sm_bl2': preprocess.get_smote('borderline2'),\n",
    "    'sm_svm': preprocess.get_smote('svm'),\n",
    "    'upsampling': preprocess.upsampling,\n",
    "    'downsampling': preprocess.downsampling\n",
    "}\n",
    "\n",
    "df_sample = defaultdict(lambda: pd.DataFrame(columns=['f1', 'roc_auc']))\n",
    "for name, md in models.items():\n",
    "    for method_name, method in sample_methods.items():\n",
    "        result = evaluation.cross_validation(md(sample_method=method), X, y, scoring='both', n_jobs=-1)\n",
    "        display(Markdown(\"**{}_{}**\".format(name, method_name)))\n",
    "        display(Markdown(\"- f1: {}\".format(result['f1'])))\n",
    "        display(Markdown(\"- roc_auc: {}\".format(result['roc_auc'])))\n",
    "        dfs_results[method_name].loc[name] = result['f1'].mean(), result['roc_auc'].mean()\n",
    "\n"
   ]
  },
  {
   "cell_type": "code",
   "execution_count": null,
   "metadata": {
    "ExecuteTime": {
     "start_time": "2018-03-30T16:25:46.883Z"
    }
   },
   "outputs": [],
   "source": [
    "df_overall = pd.DataFrame(columns=('f1', 'roc_auc'))\n",
    "for name, df in dfs_results.items():\n",
    "    for i, row in df.iterrows():\n",
    "        df_overall.loc[i + '_' + name] = row"
   ]
  },
  {
   "cell_type": "code",
   "execution_count": null,
   "metadata": {
    "ExecuteTime": {
     "start_time": "2018-03-30T16:25:46.884Z"
    }
   },
   "outputs": [],
   "source": [
    "df_overall.sort_index(inplace=True)\n",
    "\n",
    "sns.plt.figure(figsize=(10, 10))\n",
    "sns.plt.xlim((0.92, 1))\n",
    "colors = sns.color_palette(n_colors=len(df_overall))\n",
    "palette = np.concatenate([[colors[x]]* (len(sample_methods) + 2) for x in range(len(models))])\n",
    "sns.barplot(x='roc_auc', y=df_overall.index.values, data=df_overall, palette=palette)"
   ]
  },
  {
   "cell_type": "code",
   "execution_count": null,
   "metadata": {
    "ExecuteTime": {
     "start_time": "2018-03-30T16:25:46.887Z"
    },
    "scrolled": false
   },
   "outputs": [],
   "source": [
    "sns.plt.figure(figsize=(10, 10))\n",
    "sns.plt.xlim((0.6, 1))\n",
    "colors = sns.color_palette(n_colors=len(df_overall))\n",
    "palette = np.concatenate([[colors[x]]* (len(sample_methods) + 2) for x in range(len(models))])\n",
    "sns.barplot(x='f1', y=df_overall.index.values, data=df_overall, palette=palette)"
   ]
  },
  {
   "cell_type": "code",
   "execution_count": null,
   "metadata": {
    "ExecuteTime": {
     "start_time": "2018-03-30T16:25:46.888Z"
    }
   },
   "outputs": [],
   "source": [
    "evaluation.cross_validation(model.MultiClassesLearner('KNN'), X, y, scoring='both', n_jobs=-1)"
   ]
  },
  {
   "cell_type": "code",
   "execution_count": null,
   "metadata": {
    "ExecuteTime": {
     "start_time": "2018-03-30T16:25:46.890Z"
    }
   },
   "outputs": [],
   "source": [
    "evaluation.cross_validation(\n",
    "    model.LinearEnsemble(\n",
    "        [\n",
    "            model.LinearModel(),\n",
    "            model.LinearModel(),\n",
    "            model.LinearModel(),\n",
    "            model.LinearModel(),\n",
    "            model.SVM(kernel='linear'),\n",
    "            model.SVM(kernel='linear'),\n",
    "            model.SVM(kernel='rbf'),\n",
    "            model.MultiClassesLearner('KNN'),\n",
    "            model.XGBoost()\n",
    "        ]\n",
    "    ), \n",
    "    X, y, scoring='both', n_jobs=-1\n",
    ")"
   ]
  },
  {
   "cell_type": "code",
   "execution_count": null,
   "metadata": {
    "collapsed": true
   },
   "outputs": [],
   "source": []
  },
  {
   "cell_type": "code",
   "execution_count": null,
   "metadata": {
    "collapsed": true
   },
   "outputs": [],
   "source": []
  }
 ],
 "metadata": {
  "hide_input": false,
  "kernelspec": {
   "display_name": "Python 3",
   "language": "python",
   "name": "python3"
  },
  "language_info": {
   "codemirror_mode": {
    "name": "ipython",
    "version": 3
   },
   "file_extension": ".py",
   "mimetype": "text/x-python",
   "name": "python",
   "nbconvert_exporter": "python",
   "pygments_lexer": "ipython3",
   "version": "3.6.1"
  },
  "toc": {
   "nav_menu": {},
   "number_sections": true,
   "sideBar": true,
   "skip_h1_title": false,
   "toc_cell": false,
   "toc_position": {},
   "toc_section_display": "block",
   "toc_window_display": false
  }
 },
 "nbformat": 4,
 "nbformat_minor": 2
}
