{
 "cells": [
  {
   "cell_type": "code",
   "execution_count": 1,
   "metadata": {
    "ExecuteTime": {
     "end_time": "2018-04-01T15:02:07.581172Z",
     "start_time": "2018-04-01T15:02:06.205195Z"
    },
    "collapsed": true
   },
   "outputs": [],
   "source": [
    "import numpy as np\n",
    "import os\n",
    "import pickle\n",
    "import seaborn as sns\n",
    "import pandas as pd\n",
    "import matplotlib.pyplot as plt\n",
    "from sklearn.neural_network import MLPClassifier\n",
    "from sklearn.neighbors import KNeighborsClassifier\n",
    "from sklearn.pipeline import make_pipeline\n",
    "from sklearn.preprocessing import StandardScaler, MinMaxScaler\n",
    "from imblearn.over_sampling import SMOTE\n",
    "from sklearn.decomposition import PCA\n",
    "import model\n",
    "import evaluation\n",
    "import preprocess\n",
    "from collections import defaultdict\n",
    "from sklearn.model_selection import train_test_split\n",
    "from IPython.display import display, Markdown\n",
    "import warnings\n",
    "import tuning\n",
    "\n",
    "\n",
    "warnings.filterwarnings(\"ignore\")\n",
    "%matplotlib inline\n",
    "\n",
    "dict_best_estimators, dict_best_params, dict_scores = tuning.load_tuning_result()\n",
    "X_train, X_test, y_train, y_test = preprocess.load_train_test()\n",
    "ensemble_params = dict_best_params.copy()\n",
    "ensemble_params['DecisionTree']['splitter'] = 'random'\n",
    "ensemble_params['DecisionTree']['max_depth'] = 3"
   ]
  },
  {
   "cell_type": "code",
   "execution_count": 2,
   "metadata": {
    "ExecuteTime": {
     "end_time": "2018-04-01T15:02:07.589683Z",
     "start_time": "2018-04-01T15:02:07.582678Z"
    }
   },
   "outputs": [],
   "source": [
    "mds = []\n",
    "model_num = {\n",
    "    'DecisionTree': 15,\n",
    "    'LR': 15,\n",
    "    'SVM': 15,\n",
    "    'XGBoost': 0\n",
    "}\n",
    "for md_name, md in tuning.models.items():\n",
    "    params = dict_best_params[md_name]\n",
    "    for i in range(model_num[md_name]):\n",
    "        mds.append(md(**params))\n",
    "       "
   ]
  },
  {
   "cell_type": "code",
   "execution_count": 3,
   "metadata": {
    "ExecuteTime": {
     "end_time": "2018-04-01T15:02:40.086313Z",
     "start_time": "2018-04-01T15:02:07.592685Z"
    }
   },
   "outputs": [],
   "source": [
    "params, scores, estimator = evaluation.best_param_search(\n",
    "    estimator=model.MLPEnsemble(mds, (5,), activation='logistic'), params=[\n",
    "            {'layers': [[10, 3], [20], [30]],},\n",
    "        ], \n",
    "    X=X_train, y=y_train)"
   ]
  },
  {
   "cell_type": "code",
   "execution_count": 8,
   "metadata": {
    "ExecuteTime": {
     "end_time": "2018-04-01T15:06:32.521142Z",
     "start_time": "2018-04-01T15:06:32.510129Z"
    }
   },
   "outputs": [
    {
     "data": {
      "text/html": [
       "<div>\n",
       "<style>\n",
       "    .dataframe thead tr:only-child th {\n",
       "        text-align: right;\n",
       "    }\n",
       "\n",
       "    .dataframe thead th {\n",
       "        text-align: left;\n",
       "    }\n",
       "\n",
       "    .dataframe tbody tr th {\n",
       "        vertical-align: top;\n",
       "    }\n",
       "</style>\n",
       "<table border=\"1\" class=\"dataframe\">\n",
       "  <thead>\n",
       "    <tr style=\"text-align: right;\">\n",
       "      <th></th>\n",
       "      <th>test_score</th>\n",
       "      <th>train_score</th>\n",
       "      <th>fit_time</th>\n",
       "      <th>score_time</th>\n",
       "    </tr>\n",
       "  </thead>\n",
       "  <tbody>\n",
       "    <tr>\n",
       "      <th>layers:[10, 3]</th>\n",
       "      <td>0.879912</td>\n",
       "      <td>0.888677</td>\n",
       "      <td>9.077716</td>\n",
       "      <td>0.874422</td>\n",
       "    </tr>\n",
       "    <tr>\n",
       "      <th>layers:[20]</th>\n",
       "      <td>0.879912</td>\n",
       "      <td>0.888677</td>\n",
       "      <td>11.934035</td>\n",
       "      <td>0.834895</td>\n",
       "    </tr>\n",
       "    <tr>\n",
       "      <th>layers:[30]</th>\n",
       "      <td>0.879912</td>\n",
       "      <td>0.888677</td>\n",
       "      <td>10.114473</td>\n",
       "      <td>0.754007</td>\n",
       "    </tr>\n",
       "  </tbody>\n",
       "</table>\n",
       "</div>"
      ],
      "text/plain": [
       "                test_score  train_score   fit_time  score_time\n",
       "layers:[10, 3]    0.879912     0.888677   9.077716    0.874422\n",
       "layers:[20]       0.879912     0.888677  11.934035    0.834895\n",
       "layers:[30]       0.879912     0.888677  10.114473    0.754007"
      ]
     },
     "execution_count": 8,
     "metadata": {},
     "output_type": "execute_result"
    }
   ],
   "source": [
    "scores"
   ]
  },
  {
   "cell_type": "code",
   "execution_count": 4,
   "metadata": {
    "ExecuteTime": {
     "end_time": "2018-04-01T15:03:07.171393Z",
     "start_time": "2018-04-01T15:02:40.088315Z"
    }
   },
   "outputs": [
    {
     "name": "stdout",
     "output_type": "stream",
     "text": [
      "the recall for this model is : 0.876470588235\n"
     ]
    },
    {
     "data": {
      "image/png": "[encoded data removed]",
      "text/plain": [
       "<matplotlib.figure.Figure at 0x2e6bcf94080>"
      ]
     },
     "metadata": {},
     "output_type": "display_data"
    },
    {
     "name": "stdout",
     "output_type": "stream",
     "text": [
      "\n",
      "----------Classification Report------------------------------------\n",
      "             precision    recall  f1-score   support\n",
      "\n",
      "          0       0.99      0.99      0.99      4860\n",
      "          1       0.87      0.88      0.87       510\n",
      "\n",
      "avg / total       0.98      0.98      0.98      5370\n",
      "\n",
      "the recall for this model is : 0.898039215686\n"
     ]
    },
    {
     "data": {
      "image/png": "[encoded data removed]",
      "text/plain": [
       "<matplotlib.figure.Figure at 0x2e6be141a58>"
      ]
     },
     "metadata": {},
     "output_type": "display_data"
    },
    {
     "name": "stdout",
     "output_type": "stream",
     "text": [
      "\n",
      "----------Classification Report------------------------------------\n",
      "             precision    recall  f1-score   support\n",
      "\n",
      "          0       0.99      0.97      0.98      4860\n",
      "          1       0.77      0.90      0.83       510\n",
      "\n",
      "avg / total       0.97      0.96      0.97      5370\n",
      "\n",
      "the recall for this model is : 0.905882352941\n"
     ]
    },
    {
     "data": {
      "image/png": "[encoded data removed]",
      "text/plain": [
       "<matplotlib.figure.Figure at 0x2e6bea74400>"
      ]
     },
     "metadata": {},
     "output_type": "display_data"
    },
    {
     "name": "stdout",
     "output_type": "stream",
     "text": [
      "\n",
      "----------Classification Report------------------------------------\n",
      "             precision    recall  f1-score   support\n",
      "\n",
      "          0       0.99      0.96      0.98      4860\n",
      "          1       0.73      0.91      0.81       510\n",
      "\n",
      "avg / total       0.97      0.96      0.96      5370\n",
      "\n"
     ]
    },
    {
     "data": {
      "text/plain": [
       "{'test': {'f1': 0.80839895013123364, 'roc_auc': 0.97868232066489147},\n",
       " 'train': {'f1': 0.84476534296028871, 'roc_auc': 0.98677280519144883}}"
      ]
     },
     "execution_count": 4,
     "metadata": {},
     "output_type": "execute_result"
    }
   ],
   "source": [
    "sub_mds = [\n",
    "    model.MLPEnsemble(mds, (15, 5), activation='logistic'),\n",
    "    model.XGBoost(dict_best_params['XGBoost'])\n",
    "]\n",
    "evaluation.estimate(\n",
    "    sub_mds[0],\n",
    "    X_train, X_test, y_train, y_test,\n",
    "    use_confusion_matrix=True\n",
    ")\n",
    "evaluation.estimate(\n",
    "    sub_mds[1],\n",
    "    X_train, X_test, y_train, y_test,\n",
    "    use_confusion_matrix=True\n",
    ")\n",
    "evaluation.estimate(\n",
    "    model.LinearEnsemble(sub_mds),\n",
    "    X_train, X_test, y_train, y_test,\n",
    "    use_confusion_matrix=True\n",
    ")"
   ]
  },
  {
   "cell_type": "code",
   "execution_count": 5,
   "metadata": {
    "ExecuteTime": {
     "end_time": "2018-04-01T15:03:52.454577Z",
     "start_time": "2018-04-01T15:03:07.173394Z"
    }
   },
   "outputs": [
    {
     "name": "stdout",
     "output_type": "stream",
     "text": [
      "the recall for this model is : 0.911764705882\n"
     ]
    },
    {
     "data": {
      "image/png": "[encoded data removed]",
      "text/plain": [
       "<matplotlib.figure.Figure at 0x2e6bcf8a860>"
      ]
     },
     "metadata": {},
     "output_type": "display_data"
    },
    {
     "name": "stdout",
     "output_type": "stream",
     "text": [
      "\n",
      "----------Classification Report------------------------------------\n",
      "             precision    recall  f1-score   support\n",
      "\n",
      "          0       0.99      0.96      0.98      4860\n",
      "          1       0.73      0.91      0.81       510\n",
      "\n",
      "avg / total       0.97      0.96      0.96      5370\n",
      "\n"
     ]
    },
    {
     "data": {
      "text/plain": [
       "{'test': {'f1': 0.80869565217391315, 'roc_auc': 0.94803074316146219},\n",
       " 'train': {'f1': 0.83592814371257484, 'roc_auc': 0.95901789591817732}}"
      ]
     },
     "execution_count": 5,
     "metadata": {},
     "output_type": "execute_result"
    }
   ],
   "source": [
    "evaluation.estimate(\n",
    "    model.ProbaEnsemble(mds, model.SVM(C=1, kernel='linear')),\n",
    "    X_train, X_test, y_train, y_test,\n",
    "    use_confusion_matrix=True\n",
    ")"
   ]
  },
  {
   "cell_type": "code",
   "execution_count": 6,
   "metadata": {
    "ExecuteTime": {
     "end_time": "2018-04-01T15:04:36.486178Z",
     "start_time": "2018-04-01T15:03:52.457579Z"
    }
   },
   "outputs": [
    {
     "name": "stdout",
     "output_type": "stream",
     "text": [
      "the recall for this model is : 0.903921568627\n"
     ]
    },
    {
     "data": {
      "image/png": "[encoded data removed]",
      "text/plain": [
       "<matplotlib.figure.Figure at 0x2e6be3e6438>"
      ]
     },
     "metadata": {},
     "output_type": "display_data"
    },
    {
     "name": "stdout",
     "output_type": "stream",
     "text": [
      "\n",
      "----------Classification Report------------------------------------\n",
      "             precision    recall  f1-score   support\n",
      "\n",
      "          0       0.99      0.97      0.98      4860\n",
      "          1       0.74      0.90      0.81       510\n",
      "\n",
      "avg / total       0.97      0.96      0.96      5370\n",
      "\n"
     ]
    },
    {
     "data": {
      "text/plain": [
       "{'test': {'f1': 0.81090589270008806, 'roc_auc': 0.97343581053820705},\n",
       " 'train': {'f1': 0.84008016032064137, 'roc_auc': 0.97611533527679584}}"
      ]
     },
     "execution_count": 6,
     "metadata": {},
     "output_type": "execute_result"
    }
   ],
   "source": [
    "evaluation.estimate(\n",
    "    model.LinearEnsemble(mds, validation_rate=0.2),\n",
    "    X_train, X_test, y_train, y_test,\n",
    "    use_confusion_matrix=True\n",
    ")"
   ]
  },
  {
   "cell_type": "code",
   "execution_count": 7,
   "metadata": {
    "ExecuteTime": {
     "end_time": "2018-04-01T15:06:32.508629Z",
     "start_time": "2018-04-01T15:04:36.488680Z"
    },
    "collapsed": true
   },
   "outputs": [],
   "source": [
    " \n",
    "md = model.LinearEnsemble(learners=mds)\n",
    "best_param, df_score, best_estimator_ = evaluation.best_param_search(\n",
    "    estimator=md,\n",
    "    params=[\n",
    "        {'validation_rate': [0.1, 0.2, 0.3, 0.5], 'random_drop_rate': [0.2]}\n",
    "    ],\n",
    "    X=X_train,\n",
    "    y=y_train\n",
    ")"
   ]
  }
 ],
 "metadata": {
  "hide_input": false,
  "kernelspec": {
   "display_name": "Python 3",
   "language": "python",
   "name": "python3"
  },
  "language_info": {
   "codemirror_mode": {
    "name": "ipython",
    "version": 3
   },
   "file_extension": ".py",
   "mimetype": "text/x-python",
   "name": "python",
   "nbconvert_exporter": "python",
   "pygments_lexer": "ipython3",
   "version": "3.6.1"
  },
  "toc": {
   "nav_menu": {},
   "number_sections": true,
   "sideBar": true,
   "skip_h1_title": false,
   "toc_cell": false,
   "toc_position": {},
   "toc_section_display": "block",
   "toc_window_display": false
  }
 },
 "nbformat": 4,
 "nbformat_minor": 2
}
